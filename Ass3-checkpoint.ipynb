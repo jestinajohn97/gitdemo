{
 "cells": [
  {
   "cell_type": "code",
   "execution_count": 1,
   "id": "ac1fd2ef",
   "metadata": {},
   "outputs": [
    {
     "name": "stdout",
     "output_type": "stream",
     "text": [
      "1.20.3\n"
     ]
    }
   ],
   "source": [
    "import numpy as np\n",
    "print(np.__version__)\n"
   ]
  },
  {
   "cell_type": "markdown",
   "id": "32ce766d",
   "metadata": {},
   "source": [
    "## 1. How to concatenate two numpy arrays column-wise and row-wise?"
   ]
  },
  {
   "cell_type": "code",
   "execution_count": 2,
   "id": "008af915",
   "metadata": {},
   "outputs": [],
   "source": [
    "a = np.array([[1, 2],[ 3, 4]])\n",
    "b = np.array([[5,6],[7,8]])"
   ]
  },
  {
   "cell_type": "code",
   "execution_count": 3,
   "id": "9d45a193",
   "metadata": {},
   "outputs": [
    {
     "data": {
      "text/plain": [
       "array([[1, 2, 5, 6],\n",
       "       [3, 4, 7, 8]])"
      ]
     },
     "execution_count": 3,
     "metadata": {},
     "output_type": "execute_result"
    }
   ],
   "source": [
    "array_1=np.concatenate((a,b),axis=1)\n",
    "array_1\n"
   ]
  },
  {
   "cell_type": "code",
   "execution_count": 4,
   "id": "66cb4e59",
   "metadata": {},
   "outputs": [
    {
     "data": {
      "text/plain": [
       "array([[1, 2],\n",
       "       [3, 4],\n",
       "       [5, 6],\n",
       "       [7, 8]])"
      ]
     },
     "execution_count": 4,
     "metadata": {},
     "output_type": "execute_result"
    }
   ],
   "source": [
    "array_2=np.concatenate((a,b),axis=0)\n",
    "array_2"
   ]
  },
  {
   "cell_type": "markdown",
   "id": "bb67476e",
   "metadata": {},
   "source": [
    "## 2. Consider the random number generation functions in NumPy generate a set of random numbers using the function rand."
   ]
  },
  {
   "cell_type": "code",
   "execution_count": 5,
   "id": "fe41a7c4",
   "metadata": {},
   "outputs": [
    {
     "data": {
      "text/plain": [
       "array([0.22456561, 0.74271896, 0.44811169, 0.5298657 , 0.58792835,\n",
       "       0.90435293, 0.52722866, 0.27905719, 0.73803347, 0.34868823])"
      ]
     },
     "execution_count": 5,
     "metadata": {},
     "output_type": "execute_result"
    }
   ],
   "source": [
    "a = np.random.rand(10)\n",
    "a\n"
   ]
  },
  {
   "cell_type": "markdown",
   "id": "a3b2f4a4",
   "metadata": {},
   "source": [
    "## 3. Create a 3D array of shape 5x3x2 to contain random decimal numbers between 5 and 10."
   ]
  },
  {
   "cell_type": "code",
   "execution_count": 6,
   "id": "556fea40",
   "metadata": {},
   "outputs": [
    {
     "data": {
      "text/plain": [
       "array([[[8.63805945, 7.42208509],\n",
       "        [6.3103893 , 6.79810924],\n",
       "        [5.38816652, 6.81973936]],\n",
       "\n",
       "       [[8.16905012, 5.93613977],\n",
       "        [7.96334343, 9.21333715],\n",
       "        [6.61771793, 6.51483831]],\n",
       "\n",
       "       [[7.83361604, 9.92957263],\n",
       "        [6.72584776, 5.14501835],\n",
       "        [8.39340314, 7.32398357]],\n",
       "\n",
       "       [[5.61598424, 9.9389344 ],\n",
       "        [8.84584146, 8.53366441],\n",
       "        [5.18886844, 6.88416463]],\n",
       "\n",
       "       [[5.92103798, 8.92880223],\n",
       "        [8.13770681, 5.92418425],\n",
       "        [8.68028404, 8.64995603]]])"
      ]
     },
     "execution_count": 6,
     "metadata": {},
     "output_type": "execute_result"
    }
   ],
   "source": [
    "array3 = np.random.uniform(5,10, size=(5,3,2))\n",
    "array3\n"
   ]
  },
  {
   "cell_type": "markdown",
   "id": "0b0aab48",
   "metadata": {},
   "source": [
    "## 4. Create a utility function to generate random arrays using def random_array() takes number of elements as one of the argument, and randint() from random library. "
   ]
  },
  {
   "cell_type": "code",
   "execution_count": 7,
   "id": "04464fcd",
   "metadata": {},
   "outputs": [
    {
     "name": "stdout",
     "output_type": "stream",
     "text": [
      "<bound method Random.randint of <random.Random object at 0x0000018BF0691C00>>\n"
     ]
    }
   ],
   "source": [
    "import random\n",
    "print(random.randint)"
   ]
  },
  {
   "cell_type": "code",
   "execution_count": 8,
   "id": "9883c508",
   "metadata": {},
   "outputs": [
    {
     "data": {
      "text/plain": [
       "[49, 1, 14, 37, 45, 46]"
      ]
     },
     "execution_count": 8,
     "metadata": {},
     "output_type": "execute_result"
    }
   ],
   "source": [
    "\n",
    "def random_array(n):\n",
    "    res=random.sample(range(1,50,),n)\n",
    "    return res\n",
    "random_array(random.randint(1,10))"
   ]
  },
  {
   "cell_type": "markdown",
   "id": "76835f42",
   "metadata": {},
   "source": [
    "## 5. Create and Compute median using both Naive method using python only and Numpy function np.median()"
   ]
  },
  {
   "cell_type": "code",
   "execution_count": 9,
   "id": "fc83fd4a",
   "metadata": {},
   "outputs": [
    {
     "name": "stdout",
     "output_type": "stream",
     "text": [
      "median :  3.0\n"
     ]
    }
   ],
   "source": [
    "array_1=[1,2,3,4,5]\n",
    "array_1\n",
    "print(\"median : \",np.median(array_1))\n"
   ]
  },
  {
   "cell_type": "code",
   "execution_count": 10,
   "id": "566ed5cd",
   "metadata": {},
   "outputs": [
    {
     "name": "stdout",
     "output_type": "stream",
     "text": [
      "Median is: 3\n"
     ]
    }
   ],
   "source": [
    "\n",
    "n = len(array_1)\n",
    "array_1.sort()\n",
    "  \n",
    "if n % 2 == 0:\n",
    "    mid1 = array_1[n//2]\n",
    "    mid2 = array_1[n//2 - 1]\n",
    "    median = (mid1 + mid2)/2\n",
    "else:\n",
    "    median = array_1[n//2]\n",
    "print(\"Median is: \" + str(median))\n",
    "    "
   ]
  },
  {
   "cell_type": "markdown",
   "id": "72ef18a8",
   "metadata": {},
   "source": [
    "## 6.\tCreate naive function to compute variance function, mean function using only python."
   ]
  },
  {
   "cell_type": "code",
   "execution_count": 11,
   "id": "92eed38b",
   "metadata": {},
   "outputs": [
    {
     "data": {
      "text/plain": [
       "2.5"
      ]
     },
     "execution_count": 11,
     "metadata": {},
     "output_type": "execute_result"
    }
   ],
   "source": [
    "#### Mean \n",
    "import statistics\n",
    "\n",
    "arr_3 = [1, 2, 3, 4, 5]\n",
    "# n = len(arr_3)\n",
    "  \n",
    "# total = sum(arr_3)\n",
    "# mean = total / n\n",
    "  \n",
    "# print(\"Mean : \" + str(mean))\n",
    "statistics.variance(arr_3)\n",
    "\n"
   ]
  },
  {
   "cell_type": "code",
   "execution_count": 12,
   "id": "04a3ad25",
   "metadata": {},
   "outputs": [
    {
     "data": {
      "text/plain": [
       "3"
      ]
     },
     "execution_count": 12,
     "metadata": {},
     "output_type": "execute_result"
    }
   ],
   "source": [
    "#### Variance \n",
    "\n",
    "# res =sum((i - mean) ** 2 for i in arr_3)/ n\n",
    "# print(str(res))\n",
    "statistics.mean(arr_3)\n"
   ]
  },
  {
   "cell_type": "markdown",
   "id": "62708f20",
   "metadata": {},
   "source": [
    "## 7. Convert a 1D array to a 2D array with 2 rows.\n",
    "e.g. \n",
    "Input Array: ([ 0, 1, 2, 3, 4, 5, 6, 7, 8, 9])\n",
    "\n",
    "Output: [[0, 1, 2, 3, 4],\n",
    " [5, 6, 7, 8, 9]]\n"
   ]
  },
  {
   "cell_type": "code",
   "execution_count": 13,
   "id": "45cd6755",
   "metadata": {},
   "outputs": [
    {
     "data": {
      "text/plain": [
       "array([0, 1, 2, 3, 4, 5, 6, 7, 8, 9])"
      ]
     },
     "execution_count": 13,
     "metadata": {},
     "output_type": "execute_result"
    }
   ],
   "source": [
    "array_1 = np.array([0,1,2,3,4,5,6,7,8,9])\n",
    "array_1\n"
   ]
  },
  {
   "cell_type": "code",
   "execution_count": 14,
   "id": "771401ff",
   "metadata": {},
   "outputs": [
    {
     "data": {
      "text/plain": [
       "array([[0, 1, 2, 3, 4],\n",
       "       [5, 6, 7, 8, 9]])"
      ]
     },
     "execution_count": 14,
     "metadata": {},
     "output_type": "execute_result"
    }
   ],
   "source": [
    "array_2D= np.reshape(array_1,(2,5))\n",
    "array_2D\n"
   ]
  },
  {
   "cell_type": "markdown",
   "id": "805d760e",
   "metadata": {},
   "source": [
    "## 8. How to stack two arrays vertically? Stack arrays A and B vertically?"
   ]
  },
  {
   "cell_type": "code",
   "execution_count": 15,
   "id": "065fcede",
   "metadata": {},
   "outputs": [
    {
     "data": {
      "text/plain": [
       "array([[1, 2, 3, 4],\n",
       "       [5, 6, 7, 8]])"
      ]
     },
     "execution_count": 15,
     "metadata": {},
     "output_type": "execute_result"
    }
   ],
   "source": [
    "a=np.array([1,2,3,4])\n",
    "b=np.array([5,6,7,8])\n",
    "# array_2=np.concatenate((a,b),axis=0).reshape((2,4))\n",
    "# array_2\n",
    "\n",
    "vert=np.vstack((a,b))\n",
    "vert"
   ]
  },
  {
   "cell_type": "markdown",
   "id": "198bb9e9",
   "metadata": {},
   "source": [
    "## 9. Create a function using numpy to get the common items between two python numpy arrays?"
   ]
  },
  {
   "cell_type": "code",
   "execution_count": 16,
   "id": "1f270d2e",
   "metadata": {},
   "outputs": [
    {
     "data": {
      "text/plain": [
       "array([4, 7, 8])"
      ]
     },
     "execution_count": 16,
     "metadata": {},
     "output_type": "execute_result"
    }
   ],
   "source": [
    "a=np.array([1,2,7,8,3,4])\n",
    "b=np.array([5,4,6,7,8])\n",
    "array_2=np.intersect1d(a,b)\n",
    "array_2"
   ]
  },
  {
   "cell_type": "markdown",
   "id": "58e427e4",
   "metadata": {},
   "source": [
    "## 10. Create a python function to get the positions where elements of two arrays match using Numpy function?"
   ]
  },
  {
   "cell_type": "code",
   "execution_count": 17,
   "id": "078ca9ac",
   "metadata": {},
   "outputs": [
    {
     "data": {
      "text/plain": [
       "(array([2, 3], dtype=int64),)"
      ]
     },
     "execution_count": 17,
     "metadata": {},
     "output_type": "execute_result"
    }
   ],
   "source": [
    "a=np.array([1,2,7,8,3,4])\n",
    "b=np.array([5,4,7,8,1,2])\n",
    "np.where(a==b)"
   ]
  },
  {
   "cell_type": "markdown",
   "id": "ef2e9d56",
   "metadata": {},
   "source": [
    "## 11. How to create a 2D array containing random floats between 5 and 10?"
   ]
  },
  {
   "cell_type": "code",
   "execution_count": 18,
   "id": "88618c3f",
   "metadata": {},
   "outputs": [
    {
     "data": {
      "text/plain": [
       "array([[8.57500161, 8.46657333],\n",
       "       [9.46074964, 5.02348846],\n",
       "       [7.08651834, 7.93283483]])"
      ]
     },
     "execution_count": 18,
     "metadata": {},
     "output_type": "execute_result"
    }
   ],
   "source": [
    "array3 = np.random.uniform(5,10, size=(3,2))\n",
    "array3\n"
   ]
  },
  {
   "cell_type": "markdown",
   "id": "0ec21fad",
   "metadata": {},
   "source": [
    "## 12.\tExtract the text column species from the 1D iris imported using following url np.genfromtxt()\n",
    "https://raw.githubusercontent.com/ammishra08/MachineLearning/master/Datasets/iris.csv\n"
   ]
  },
  {
   "cell_type": "code",
   "execution_count": 19,
   "id": "423dc874",
   "metadata": {},
   "outputs": [
    {
     "data": {
      "text/plain": [
       "'1.3.4'"
      ]
     },
     "execution_count": 19,
     "metadata": {},
     "output_type": "execute_result"
    }
   ],
   "source": [
    "import numpy as np\n",
    "import pandas as pd\n",
    "\n",
    "pd.__version__"
   ]
  },
  {
   "cell_type": "code",
   "execution_count": 20,
   "id": "3466c71a",
   "metadata": {},
   "outputs": [
    {
     "data": {
      "text/html": [
       "<div>\n",
       "<style scoped>\n",
       "    .dataframe tbody tr th:only-of-type {\n",
       "        vertical-align: middle;\n",
       "    }\n",
       "\n",
       "    .dataframe tbody tr th {\n",
       "        vertical-align: top;\n",
       "    }\n",
       "\n",
       "    .dataframe thead th {\n",
       "        text-align: right;\n",
       "    }\n",
       "</style>\n",
       "<table border=\"1\" class=\"dataframe\">\n",
       "  <thead>\n",
       "    <tr style=\"text-align: right;\">\n",
       "      <th></th>\n",
       "      <th>sepal_length</th>\n",
       "      <th>sepal_width</th>\n",
       "      <th>petal_length</th>\n",
       "      <th>petal_width</th>\n",
       "      <th>species</th>\n",
       "    </tr>\n",
       "  </thead>\n",
       "  <tbody>\n",
       "    <tr>\n",
       "      <th>0</th>\n",
       "      <td>5.1</td>\n",
       "      <td>3.5</td>\n",
       "      <td>1.4</td>\n",
       "      <td>0.2</td>\n",
       "      <td>setosa</td>\n",
       "    </tr>\n",
       "    <tr>\n",
       "      <th>1</th>\n",
       "      <td>4.9</td>\n",
       "      <td>3.0</td>\n",
       "      <td>1.4</td>\n",
       "      <td>0.2</td>\n",
       "      <td>setosa</td>\n",
       "    </tr>\n",
       "    <tr>\n",
       "      <th>2</th>\n",
       "      <td>4.7</td>\n",
       "      <td>3.2</td>\n",
       "      <td>1.3</td>\n",
       "      <td>0.2</td>\n",
       "      <td>setosa</td>\n",
       "    </tr>\n",
       "    <tr>\n",
       "      <th>3</th>\n",
       "      <td>4.6</td>\n",
       "      <td>3.1</td>\n",
       "      <td>1.5</td>\n",
       "      <td>0.2</td>\n",
       "      <td>setosa</td>\n",
       "    </tr>\n",
       "    <tr>\n",
       "      <th>4</th>\n",
       "      <td>5.0</td>\n",
       "      <td>3.6</td>\n",
       "      <td>1.4</td>\n",
       "      <td>0.2</td>\n",
       "      <td>setosa</td>\n",
       "    </tr>\n",
       "    <tr>\n",
       "      <th>...</th>\n",
       "      <td>...</td>\n",
       "      <td>...</td>\n",
       "      <td>...</td>\n",
       "      <td>...</td>\n",
       "      <td>...</td>\n",
       "    </tr>\n",
       "    <tr>\n",
       "      <th>145</th>\n",
       "      <td>6.7</td>\n",
       "      <td>3.0</td>\n",
       "      <td>5.2</td>\n",
       "      <td>2.3</td>\n",
       "      <td>virginica</td>\n",
       "    </tr>\n",
       "    <tr>\n",
       "      <th>146</th>\n",
       "      <td>6.3</td>\n",
       "      <td>2.5</td>\n",
       "      <td>5.0</td>\n",
       "      <td>1.9</td>\n",
       "      <td>virginica</td>\n",
       "    </tr>\n",
       "    <tr>\n",
       "      <th>147</th>\n",
       "      <td>6.5</td>\n",
       "      <td>3.0</td>\n",
       "      <td>5.2</td>\n",
       "      <td>2.0</td>\n",
       "      <td>virginica</td>\n",
       "    </tr>\n",
       "    <tr>\n",
       "      <th>148</th>\n",
       "      <td>6.2</td>\n",
       "      <td>3.4</td>\n",
       "      <td>5.4</td>\n",
       "      <td>2.3</td>\n",
       "      <td>virginica</td>\n",
       "    </tr>\n",
       "    <tr>\n",
       "      <th>149</th>\n",
       "      <td>5.9</td>\n",
       "      <td>3.0</td>\n",
       "      <td>5.1</td>\n",
       "      <td>1.8</td>\n",
       "      <td>virginica</td>\n",
       "    </tr>\n",
       "  </tbody>\n",
       "</table>\n",
       "<p>150 rows × 5 columns</p>\n",
       "</div>"
      ],
      "text/plain": [
       "     sepal_length  sepal_width  petal_length  petal_width    species\n",
       "0             5.1          3.5           1.4          0.2     setosa\n",
       "1             4.9          3.0           1.4          0.2     setosa\n",
       "2             4.7          3.2           1.3          0.2     setosa\n",
       "3             4.6          3.1           1.5          0.2     setosa\n",
       "4             5.0          3.6           1.4          0.2     setosa\n",
       "..            ...          ...           ...          ...        ...\n",
       "145           6.7          3.0           5.2          2.3  virginica\n",
       "146           6.3          2.5           5.0          1.9  virginica\n",
       "147           6.5          3.0           5.2          2.0  virginica\n",
       "148           6.2          3.4           5.4          2.3  virginica\n",
       "149           5.9          3.0           5.1          1.8  virginica\n",
       "\n",
       "[150 rows x 5 columns]"
      ]
     },
     "execution_count": 20,
     "metadata": {},
     "output_type": "execute_result"
    }
   ],
   "source": [
    "iris_df = pd.read_csv(\"https://raw.githubusercontent.com/ammishra08/MachineLearning/master/Datasets/iris.csv\")\n",
    "iris_df\n"
   ]
  },
  {
   "cell_type": "code",
   "execution_count": 21,
   "id": "4d6c14fd",
   "metadata": {},
   "outputs": [
    {
     "data": {
      "text/plain": [
       "0         setosa\n",
       "1         setosa\n",
       "2         setosa\n",
       "3         setosa\n",
       "4         setosa\n",
       "         ...    \n",
       "145    virginica\n",
       "146    virginica\n",
       "147    virginica\n",
       "148    virginica\n",
       "149    virginica\n",
       "Name: species, Length: 150, dtype: object"
      ]
     },
     "execution_count": 21,
     "metadata": {},
     "output_type": "execute_result"
    }
   ],
   "source": [
    "iris_df['species']\n"
   ]
  },
  {
   "cell_type": "markdown",
   "id": "e41fdfa5",
   "metadata": {},
   "source": [
    "## 13. How to Convert the 1D iris to 2D array iris_2d by omitting the species column and dropping first row?"
   ]
  },
  {
   "cell_type": "code",
   "execution_count": 22,
   "id": "67e41bcd",
   "metadata": {},
   "outputs": [
    {
     "name": "stdout",
     "output_type": "stream",
     "text": [
      "     sepal_length  sepal_width  petal_length  petal_width\n",
      "1             4.9          3.0           1.4          0.2\n",
      "2             4.7          3.2           1.3          0.2\n",
      "3             4.6          3.1           1.5          0.2\n",
      "4             5.0          3.6           1.4          0.2\n",
      "5             5.4          3.9           1.7          0.4\n",
      "..            ...          ...           ...          ...\n",
      "145           6.7          3.0           5.2          2.3\n",
      "146           6.3          2.5           5.0          1.9\n",
      "147           6.5          3.0           5.2          2.0\n",
      "148           6.2          3.4           5.4          2.3\n",
      "149           5.9          3.0           5.1          1.8\n",
      "\n",
      "[149 rows x 4 columns]\n"
     ]
    }
   ],
   "source": [
    "iris_df = pd.read_csv(\"https://raw.githubusercontent.com/ammishra08/MachineLearning/master/Datasets/iris.csv\")\n",
    "df=iris_df.copy()\n",
    "df\n",
    "df.drop(index=[0],columns=['species'],inplace=True)\n",
    "print(df)"
   ]
  },
  {
   "cell_type": "code",
   "execution_count": 23,
   "id": "52b5d555",
   "metadata": {},
   "outputs": [
    {
     "data": {
      "text/plain": [
       "array([[4.9, 3. , 1.4, 0.2],\n",
       "       [4.7, 3.2, 1.3, 0.2],\n",
       "       [4.6, 3.1, 1.5, 0.2],\n",
       "       [5. , 3.6, 1.4, 0.2],\n",
       "       [5.4, 3.9, 1.7, 0.4],\n",
       "       [4.6, 3.4, 1.4, 0.3],\n",
       "       [5. , 3.4, 1.5, 0.2],\n",
       "       [4.4, 2.9, 1.4, 0.2],\n",
       "       [4.9, 3.1, 1.5, 0.1],\n",
       "       [5.4, 3.7, 1.5, 0.2],\n",
       "       [4.8, 3.4, 1.6, 0.2],\n",
       "       [4.8, 3. , 1.4, 0.1],\n",
       "       [4.3, 3. , 1.1, 0.1],\n",
       "       [5.8, 4. , 1.2, 0.2],\n",
       "       [5.7, 4.4, 1.5, 0.4],\n",
       "       [5.4, 3.9, 1.3, 0.4],\n",
       "       [5.1, 3.5, 1.4, 0.3],\n",
       "       [5.7, 3.8, 1.7, 0.3],\n",
       "       [5.1, 3.8, 1.5, 0.3],\n",
       "       [5.4, 3.4, 1.7, 0.2],\n",
       "       [5.1, 3.7, 1.5, 0.4],\n",
       "       [4.6, 3.6, 1. , 0.2],\n",
       "       [5.1, 3.3, 1.7, 0.5],\n",
       "       [4.8, 3.4, 1.9, 0.2],\n",
       "       [5. , 3. , 1.6, 0.2],\n",
       "       [5. , 3.4, 1.6, 0.4],\n",
       "       [5.2, 3.5, 1.5, 0.2],\n",
       "       [5.2, 3.4, 1.4, 0.2],\n",
       "       [4.7, 3.2, 1.6, 0.2],\n",
       "       [4.8, 3.1, 1.6, 0.2],\n",
       "       [5.4, 3.4, 1.5, 0.4],\n",
       "       [5.2, 4.1, 1.5, 0.1],\n",
       "       [5.5, 4.2, 1.4, 0.2],\n",
       "       [4.9, 3.1, 1.5, 0.2],\n",
       "       [5. , 3.2, 1.2, 0.2],\n",
       "       [5.5, 3.5, 1.3, 0.2],\n",
       "       [4.9, 3.6, 1.4, 0.1],\n",
       "       [4.4, 3. , 1.3, 0.2],\n",
       "       [5.1, 3.4, 1.5, 0.2],\n",
       "       [5. , 3.5, 1.3, 0.3],\n",
       "       [4.5, 2.3, 1.3, 0.3],\n",
       "       [4.4, 3.2, 1.3, 0.2],\n",
       "       [5. , 3.5, 1.6, 0.6],\n",
       "       [5.1, 3.8, 1.9, 0.4],\n",
       "       [4.8, 3. , 1.4, 0.3],\n",
       "       [5.1, 3.8, 1.6, 0.2],\n",
       "       [4.6, 3.2, 1.4, 0.2],\n",
       "       [5.3, 3.7, 1.5, 0.2],\n",
       "       [5. , 3.3, 1.4, 0.2],\n",
       "       [7. , 3.2, 4.7, 1.4],\n",
       "       [6.4, 3.2, 4.5, 1.5],\n",
       "       [6.9, 3.1, 4.9, 1.5],\n",
       "       [5.5, 2.3, 4. , 1.3],\n",
       "       [6.5, 2.8, 4.6, 1.5],\n",
       "       [5.7, 2.8, 4.5, 1.3],\n",
       "       [6.3, 3.3, 4.7, 1.6],\n",
       "       [4.9, 2.4, 3.3, 1. ],\n",
       "       [6.6, 2.9, 4.6, 1.3],\n",
       "       [5.2, 2.7, 3.9, 1.4],\n",
       "       [5. , 2. , 3.5, 1. ],\n",
       "       [5.9, 3. , 4.2, 1.5],\n",
       "       [6. , 2.2, 4. , 1. ],\n",
       "       [6.1, 2.9, 4.7, 1.4],\n",
       "       [5.6, 2.9, 3.6, 1.3],\n",
       "       [6.7, 3.1, 4.4, 1.4],\n",
       "       [5.6, 3. , 4.5, 1.5],\n",
       "       [5.8, 2.7, 4.1, 1. ],\n",
       "       [6.2, 2.2, 4.5, 1.5],\n",
       "       [5.6, 2.5, 3.9, 1.1],\n",
       "       [5.9, 3.2, 4.8, 1.8],\n",
       "       [6.1, 2.8, 4. , 1.3],\n",
       "       [6.3, 2.5, 4.9, 1.5],\n",
       "       [6.1, 2.8, 4.7, 1.2],\n",
       "       [6.4, 2.9, 4.3, 1.3],\n",
       "       [6.6, 3. , 4.4, 1.4],\n",
       "       [6.8, 2.8, 4.8, 1.4],\n",
       "       [6.7, 3. , 5. , 1.7],\n",
       "       [6. , 2.9, 4.5, 1.5],\n",
       "       [5.7, 2.6, 3.5, 1. ],\n",
       "       [5.5, 2.4, 3.8, 1.1],\n",
       "       [5.5, 2.4, 3.7, 1. ],\n",
       "       [5.8, 2.7, 3.9, 1.2],\n",
       "       [6. , 2.7, 5.1, 1.6],\n",
       "       [5.4, 3. , 4.5, 1.5],\n",
       "       [6. , 3.4, 4.5, 1.6],\n",
       "       [6.7, 3.1, 4.7, 1.5],\n",
       "       [6.3, 2.3, 4.4, 1.3],\n",
       "       [5.6, 3. , 4.1, 1.3],\n",
       "       [5.5, 2.5, 4. , 1.3],\n",
       "       [5.5, 2.6, 4.4, 1.2],\n",
       "       [6.1, 3. , 4.6, 1.4],\n",
       "       [5.8, 2.6, 4. , 1.2],\n",
       "       [5. , 2.3, 3.3, 1. ],\n",
       "       [5.6, 2.7, 4.2, 1.3],\n",
       "       [5.7, 3. , 4.2, 1.2],\n",
       "       [5.7, 2.9, 4.2, 1.3],\n",
       "       [6.2, 2.9, 4.3, 1.3],\n",
       "       [5.1, 2.5, 3. , 1.1],\n",
       "       [5.7, 2.8, 4.1, 1.3],\n",
       "       [6.3, 3.3, 6. , 2.5],\n",
       "       [5.8, 2.7, 5.1, 1.9],\n",
       "       [7.1, 3. , 5.9, 2.1],\n",
       "       [6.3, 2.9, 5.6, 1.8],\n",
       "       [6.5, 3. , 5.8, 2.2],\n",
       "       [7.6, 3. , 6.6, 2.1],\n",
       "       [4.9, 2.5, 4.5, 1.7],\n",
       "       [7.3, 2.9, 6.3, 1.8],\n",
       "       [6.7, 2.5, 5.8, 1.8],\n",
       "       [7.2, 3.6, 6.1, 2.5],\n",
       "       [6.5, 3.2, 5.1, 2. ],\n",
       "       [6.4, 2.7, 5.3, 1.9],\n",
       "       [6.8, 3. , 5.5, 2.1],\n",
       "       [5.7, 2.5, 5. , 2. ],\n",
       "       [5.8, 2.8, 5.1, 2.4],\n",
       "       [6.4, 3.2, 5.3, 2.3],\n",
       "       [6.5, 3. , 5.5, 1.8],\n",
       "       [7.7, 3.8, 6.7, 2.2],\n",
       "       [7.7, 2.6, 6.9, 2.3],\n",
       "       [6. , 2.2, 5. , 1.5],\n",
       "       [6.9, 3.2, 5.7, 2.3],\n",
       "       [5.6, 2.8, 4.9, 2. ],\n",
       "       [7.7, 2.8, 6.7, 2. ],\n",
       "       [6.3, 2.7, 4.9, 1.8],\n",
       "       [6.7, 3.3, 5.7, 2.1],\n",
       "       [7.2, 3.2, 6. , 1.8],\n",
       "       [6.2, 2.8, 4.8, 1.8],\n",
       "       [6.1, 3. , 4.9, 1.8],\n",
       "       [6.4, 2.8, 5.6, 2.1],\n",
       "       [7.2, 3. , 5.8, 1.6],\n",
       "       [7.4, 2.8, 6.1, 1.9],\n",
       "       [7.9, 3.8, 6.4, 2. ],\n",
       "       [6.4, 2.8, 5.6, 2.2],\n",
       "       [6.3, 2.8, 5.1, 1.5],\n",
       "       [6.1, 2.6, 5.6, 1.4],\n",
       "       [7.7, 3. , 6.1, 2.3],\n",
       "       [6.3, 3.4, 5.6, 2.4],\n",
       "       [6.4, 3.1, 5.5, 1.8],\n",
       "       [6. , 3. , 4.8, 1.8],\n",
       "       [6.9, 3.1, 5.4, 2.1],\n",
       "       [6.7, 3.1, 5.6, 2.4],\n",
       "       [6.9, 3.1, 5.1, 2.3],\n",
       "       [5.8, 2.7, 5.1, 1.9],\n",
       "       [6.8, 3.2, 5.9, 2.3],\n",
       "       [6.7, 3.3, 5.7, 2.5],\n",
       "       [6.7, 3. , 5.2, 2.3],\n",
       "       [6.3, 2.5, 5. , 1.9],\n",
       "       [6.5, 3. , 5.2, 2. ],\n",
       "       [6.2, 3.4, 5.4, 2.3],\n",
       "       [5.9, 3. , 5.1, 1.8]])"
      ]
     },
     "execution_count": 23,
     "metadata": {},
     "output_type": "execute_result"
    }
   ],
   "source": [
    "arr=df.values\n",
    "arr\n"
   ]
  },
  {
   "cell_type": "code",
   "execution_count": 24,
   "id": "77705ccd",
   "metadata": {},
   "outputs": [
    {
     "data": {
      "text/html": [
       "<div>\n",
       "<style scoped>\n",
       "    .dataframe tbody tr th:only-of-type {\n",
       "        vertical-align: middle;\n",
       "    }\n",
       "\n",
       "    .dataframe tbody tr th {\n",
       "        vertical-align: top;\n",
       "    }\n",
       "\n",
       "    .dataframe thead th {\n",
       "        text-align: right;\n",
       "    }\n",
       "</style>\n",
       "<table border=\"1\" class=\"dataframe\">\n",
       "  <thead>\n",
       "    <tr style=\"text-align: right;\">\n",
       "      <th></th>\n",
       "      <th>sepal_length</th>\n",
       "      <th>sepal_width</th>\n",
       "      <th>petal_length</th>\n",
       "      <th>petal_width</th>\n",
       "    </tr>\n",
       "  </thead>\n",
       "  <tbody>\n",
       "    <tr>\n",
       "      <th>1</th>\n",
       "      <td>4.9</td>\n",
       "      <td>3.0</td>\n",
       "      <td>1.4</td>\n",
       "      <td>0.2</td>\n",
       "    </tr>\n",
       "    <tr>\n",
       "      <th>2</th>\n",
       "      <td>4.7</td>\n",
       "      <td>3.2</td>\n",
       "      <td>1.3</td>\n",
       "      <td>0.2</td>\n",
       "    </tr>\n",
       "    <tr>\n",
       "      <th>3</th>\n",
       "      <td>4.6</td>\n",
       "      <td>3.1</td>\n",
       "      <td>1.5</td>\n",
       "      <td>0.2</td>\n",
       "    </tr>\n",
       "    <tr>\n",
       "      <th>4</th>\n",
       "      <td>5.0</td>\n",
       "      <td>3.6</td>\n",
       "      <td>1.4</td>\n",
       "      <td>0.2</td>\n",
       "    </tr>\n",
       "    <tr>\n",
       "      <th>5</th>\n",
       "      <td>5.4</td>\n",
       "      <td>3.9</td>\n",
       "      <td>1.7</td>\n",
       "      <td>0.4</td>\n",
       "    </tr>\n",
       "    <tr>\n",
       "      <th>...</th>\n",
       "      <td>...</td>\n",
       "      <td>...</td>\n",
       "      <td>...</td>\n",
       "      <td>...</td>\n",
       "    </tr>\n",
       "    <tr>\n",
       "      <th>145</th>\n",
       "      <td>6.7</td>\n",
       "      <td>3.0</td>\n",
       "      <td>5.2</td>\n",
       "      <td>2.3</td>\n",
       "    </tr>\n",
       "    <tr>\n",
       "      <th>146</th>\n",
       "      <td>6.3</td>\n",
       "      <td>2.5</td>\n",
       "      <td>5.0</td>\n",
       "      <td>1.9</td>\n",
       "    </tr>\n",
       "    <tr>\n",
       "      <th>147</th>\n",
       "      <td>6.5</td>\n",
       "      <td>3.0</td>\n",
       "      <td>5.2</td>\n",
       "      <td>2.0</td>\n",
       "    </tr>\n",
       "    <tr>\n",
       "      <th>148</th>\n",
       "      <td>6.2</td>\n",
       "      <td>3.4</td>\n",
       "      <td>5.4</td>\n",
       "      <td>2.3</td>\n",
       "    </tr>\n",
       "    <tr>\n",
       "      <th>149</th>\n",
       "      <td>5.9</td>\n",
       "      <td>3.0</td>\n",
       "      <td>5.1</td>\n",
       "      <td>1.8</td>\n",
       "    </tr>\n",
       "  </tbody>\n",
       "</table>\n",
       "<p>149 rows × 4 columns</p>\n",
       "</div>"
      ],
      "text/plain": [
       "     sepal_length  sepal_width  petal_length  petal_width\n",
       "1             4.9          3.0           1.4          0.2\n",
       "2             4.7          3.2           1.3          0.2\n",
       "3             4.6          3.1           1.5          0.2\n",
       "4             5.0          3.6           1.4          0.2\n",
       "5             5.4          3.9           1.7          0.4\n",
       "..            ...          ...           ...          ...\n",
       "145           6.7          3.0           5.2          2.3\n",
       "146           6.3          2.5           5.0          1.9\n",
       "147           6.5          3.0           5.2          2.0\n",
       "148           6.2          3.4           5.4          2.3\n",
       "149           5.9          3.0           5.1          1.8\n",
       "\n",
       "[149 rows x 4 columns]"
      ]
     },
     "execution_count": 24,
     "metadata": {},
     "output_type": "execute_result"
    }
   ],
   "source": [
    "array_2D= np.reshape(df,(149,4))\n",
    "array_2D"
   ]
  },
  {
   "cell_type": "markdown",
   "id": "ea660d05",
   "metadata": {},
   "source": [
    "## 14. How to compute the mean, median, standard deviation of a numpy array on the same iris dataset?"
   ]
  },
  {
   "cell_type": "code",
   "execution_count": 25,
   "id": "82aa2617",
   "metadata": {},
   "outputs": [
    {
     "data": {
      "text/html": [
       "<div>\n",
       "<style scoped>\n",
       "    .dataframe tbody tr th:only-of-type {\n",
       "        vertical-align: middle;\n",
       "    }\n",
       "\n",
       "    .dataframe tbody tr th {\n",
       "        vertical-align: top;\n",
       "    }\n",
       "\n",
       "    .dataframe thead th {\n",
       "        text-align: right;\n",
       "    }\n",
       "</style>\n",
       "<table border=\"1\" class=\"dataframe\">\n",
       "  <thead>\n",
       "    <tr style=\"text-align: right;\">\n",
       "      <th></th>\n",
       "      <th>sepal_length</th>\n",
       "      <th>sepal_width</th>\n",
       "      <th>petal_length</th>\n",
       "      <th>petal_width</th>\n",
       "    </tr>\n",
       "  </thead>\n",
       "  <tbody>\n",
       "    <tr>\n",
       "      <th>mean</th>\n",
       "      <td>5.843333</td>\n",
       "      <td>3.057333</td>\n",
       "      <td>3.758000</td>\n",
       "      <td>1.199333</td>\n",
       "    </tr>\n",
       "    <tr>\n",
       "      <th>median</th>\n",
       "      <td>5.800000</td>\n",
       "      <td>3.000000</td>\n",
       "      <td>4.350000</td>\n",
       "      <td>1.300000</td>\n",
       "    </tr>\n",
       "    <tr>\n",
       "      <th>std</th>\n",
       "      <td>0.828066</td>\n",
       "      <td>0.435866</td>\n",
       "      <td>1.765298</td>\n",
       "      <td>0.762238</td>\n",
       "    </tr>\n",
       "  </tbody>\n",
       "</table>\n",
       "</div>"
      ],
      "text/plain": [
       "        sepal_length  sepal_width  petal_length  petal_width\n",
       "mean        5.843333     3.057333      3.758000     1.199333\n",
       "median      5.800000     3.000000      4.350000     1.300000\n",
       "std         0.828066     0.435866      1.765298     0.762238"
      ]
     },
     "execution_count": 25,
     "metadata": {},
     "output_type": "execute_result"
    }
   ],
   "source": [
    "iris_df.agg(['mean','median','std'])\n"
   ]
  },
  {
   "cell_type": "markdown",
   "id": "a7b6fc35",
   "metadata": {},
   "source": [
    "## 15. How to scale an array so the values range exactly between 0 and 1 using Admission.csv?\n",
    "https://raw.githubusercontent.com/ammishra08/MachineLearning/master/Datasets/Admission.csv\n",
    "Change all the values in the range of 0-1.\n"
   ]
  },
  {
   "cell_type": "code",
   "execution_count": 26,
   "id": "4b45d027",
   "metadata": {},
   "outputs": [
    {
     "data": {
      "text/plain": [
       "array([[  1.  , 337.  , 118.  , ...,   9.65,   1.  ,   0.92],\n",
       "       [  2.  , 324.  , 107.  , ...,   8.87,   1.  ,   0.76],\n",
       "       [  3.  , 316.  , 104.  , ...,   8.  ,   1.  ,   0.72],\n",
       "       ...,\n",
       "       [498.  , 330.  , 120.  , ...,   9.56,   1.  ,   0.93],\n",
       "       [499.  , 312.  , 103.  , ...,   8.43,   0.  ,   0.73],\n",
       "       [500.  , 327.  , 113.  , ...,   9.04,   0.  ,   0.84]])"
      ]
     },
     "execution_count": 26,
     "metadata": {},
     "output_type": "execute_result"
    }
   ],
   "source": [
    "ad_df = pd.read_csv(\"https://raw.githubusercontent.com/ammishra08/MachineLearning/master/Datasets/Admission.csv\")\n",
    "ad1=ad_df.values\n",
    "ad1\n"
   ]
  },
  {
   "cell_type": "code",
   "execution_count": 27,
   "id": "51626867",
   "metadata": {},
   "outputs": [
    {
     "data": {
      "text/plain": [
       "array([[0.002  , 0.674  , 0.236  , ..., 0.0193 , 0.002  , 0.00184],\n",
       "       [0.004  , 0.648  , 0.214  , ..., 0.01774, 0.002  , 0.00152],\n",
       "       [0.006  , 0.632  , 0.208  , ..., 0.016  , 0.002  , 0.00144],\n",
       "       ...,\n",
       "       [0.996  , 0.66   , 0.24   , ..., 0.01912, 0.002  , 0.00186],\n",
       "       [0.998  , 0.624  , 0.206  , ..., 0.01686, 0.     , 0.00146],\n",
       "       [1.     , 0.654  , 0.226  , ..., 0.01808, 0.     , 0.00168]])"
      ]
     },
     "execution_count": 27,
     "metadata": {},
     "output_type": "execute_result"
    }
   ],
   "source": [
    "def Normalize(data):\n",
    "    return(data-np.min(data))/(np.max(data))-(np.min(data))\n",
    "scaled=Normalize(ad1)\n",
    "scaled\n"
   ]
  },
  {
   "cell_type": "code",
   "execution_count": null,
   "id": "acc7dd7f",
   "metadata": {},
   "outputs": [],
   "source": [
    "\n"
   ]
  },
  {
   "cell_type": "markdown",
   "id": "02fc49be",
   "metadata": {},
   "source": [
    "## 16. Compute and Find the number and position of missing values in iris data’s sepal length column.\n",
    "(And few missing values).\n"
   ]
  },
  {
   "cell_type": "code",
   "execution_count": 28,
   "id": "eb479d1e",
   "metadata": {},
   "outputs": [
    {
     "data": {
      "text/plain": [
       "0"
      ]
     },
     "execution_count": 28,
     "metadata": {},
     "output_type": "execute_result"
    }
   ],
   "source": [
    "# iris_df.isnull().sum()\n",
    "\n",
    "d=pd.isnull(iris_df[\"sepal_length\"]).sum()\n",
    "d"
   ]
  },
  {
   "cell_type": "markdown",
   "id": "606e6638",
   "metadata": {},
   "source": [
    "## 17. Drop rows that contain a missing value from a numpy array created by using iris dataset? \n",
    "Hint: There is no direct function for this hence, select the rows of Iris dataset that does not have any NaN value.\n"
   ]
  },
  {
   "cell_type": "code",
   "execution_count": 29,
   "id": "49932ba3",
   "metadata": {},
   "outputs": [
    {
     "data": {
      "text/plain": [
       "array([[5.1, 3.5, 1.4, 0.2, 'setosa'],\n",
       "       [4.9, 3.0, 1.4, 0.2, 'setosa'],\n",
       "       [4.7, 3.2, 1.3, 0.2, 'setosa'],\n",
       "       [4.6, 3.1, 1.5, 0.2, 'setosa'],\n",
       "       [5.0, 3.6, 1.4, 0.2, 'setosa'],\n",
       "       [5.4, 3.9, 1.7, 0.4, 'setosa'],\n",
       "       [4.6, 3.4, 1.4, 0.3, 'setosa'],\n",
       "       [5.0, 3.4, 1.5, 0.2, 'setosa'],\n",
       "       [4.4, 2.9, 1.4, 0.2, 'setosa'],\n",
       "       [4.9, 3.1, 1.5, 0.1, 'setosa'],\n",
       "       [5.4, 3.7, 1.5, 0.2, 'setosa'],\n",
       "       [4.8, 3.4, 1.6, 0.2, 'setosa'],\n",
       "       [4.8, 3.0, 1.4, 0.1, 'setosa'],\n",
       "       [4.3, 3.0, 1.1, 0.1, 'setosa'],\n",
       "       [5.8, 4.0, 1.2, 0.2, 'setosa'],\n",
       "       [5.7, 4.4, 1.5, 0.4, 'setosa'],\n",
       "       [5.4, 3.9, 1.3, 0.4, 'setosa'],\n",
       "       [5.1, 3.5, 1.4, 0.3, 'setosa'],\n",
       "       [5.7, 3.8, 1.7, 0.3, 'setosa'],\n",
       "       [5.1, 3.8, 1.5, 0.3, 'setosa'],\n",
       "       [5.4, 3.4, 1.7, 0.2, 'setosa'],\n",
       "       [5.1, 3.7, 1.5, 0.4, 'setosa'],\n",
       "       [4.6, 3.6, 1.0, 0.2, 'setosa'],\n",
       "       [5.1, 3.3, 1.7, 0.5, 'setosa'],\n",
       "       [4.8, 3.4, 1.9, 0.2, 'setosa'],\n",
       "       [5.0, 3.0, 1.6, 0.2, 'setosa'],\n",
       "       [5.0, 3.4, 1.6, 0.4, 'setosa'],\n",
       "       [5.2, 3.5, 1.5, 0.2, 'setosa'],\n",
       "       [5.2, 3.4, 1.4, 0.2, 'setosa'],\n",
       "       [4.7, 3.2, 1.6, 0.2, 'setosa'],\n",
       "       [4.8, 3.1, 1.6, 0.2, 'setosa'],\n",
       "       [5.4, 3.4, 1.5, 0.4, 'setosa'],\n",
       "       [5.2, 4.1, 1.5, 0.1, 'setosa'],\n",
       "       [5.5, 4.2, 1.4, 0.2, 'setosa'],\n",
       "       [4.9, 3.1, 1.5, 0.2, 'setosa'],\n",
       "       [5.0, 3.2, 1.2, 0.2, 'setosa'],\n",
       "       [5.5, 3.5, 1.3, 0.2, 'setosa'],\n",
       "       [4.9, 3.6, 1.4, 0.1, 'setosa'],\n",
       "       [4.4, 3.0, 1.3, 0.2, 'setosa'],\n",
       "       [5.1, 3.4, 1.5, 0.2, 'setosa'],\n",
       "       [5.0, 3.5, 1.3, 0.3, 'setosa'],\n",
       "       [4.5, 2.3, 1.3, 0.3, 'setosa'],\n",
       "       [4.4, 3.2, 1.3, 0.2, 'setosa'],\n",
       "       [5.0, 3.5, 1.6, 0.6, 'setosa'],\n",
       "       [5.1, 3.8, 1.9, 0.4, 'setosa'],\n",
       "       [4.8, 3.0, 1.4, 0.3, 'setosa'],\n",
       "       [5.1, 3.8, 1.6, 0.2, 'setosa'],\n",
       "       [4.6, 3.2, 1.4, 0.2, 'setosa'],\n",
       "       [5.3, 3.7, 1.5, 0.2, 'setosa'],\n",
       "       [5.0, 3.3, 1.4, 0.2, 'setosa'],\n",
       "       [7.0, 3.2, 4.7, 1.4, 'versicolor'],\n",
       "       [6.4, 3.2, 4.5, 1.5, 'versicolor'],\n",
       "       [6.9, 3.1, 4.9, 1.5, 'versicolor'],\n",
       "       [5.5, 2.3, 4.0, 1.3, 'versicolor'],\n",
       "       [6.5, 2.8, 4.6, 1.5, 'versicolor'],\n",
       "       [5.7, 2.8, 4.5, 1.3, 'versicolor'],\n",
       "       [6.3, 3.3, 4.7, 1.6, 'versicolor'],\n",
       "       [4.9, 2.4, 3.3, 1.0, 'versicolor'],\n",
       "       [6.6, 2.9, 4.6, 1.3, 'versicolor'],\n",
       "       [5.2, 2.7, 3.9, 1.4, 'versicolor'],\n",
       "       [5.0, 2.0, 3.5, 1.0, 'versicolor'],\n",
       "       [5.9, 3.0, 4.2, 1.5, 'versicolor'],\n",
       "       [6.0, 2.2, 4.0, 1.0, 'versicolor'],\n",
       "       [6.1, 2.9, 4.7, 1.4, 'versicolor'],\n",
       "       [5.6, 2.9, 3.6, 1.3, 'versicolor'],\n",
       "       [6.7, 3.1, 4.4, 1.4, 'versicolor'],\n",
       "       [5.6, 3.0, 4.5, 1.5, 'versicolor'],\n",
       "       [5.8, 2.7, 4.1, 1.0, 'versicolor'],\n",
       "       [6.2, 2.2, 4.5, 1.5, 'versicolor'],\n",
       "       [5.6, 2.5, 3.9, 1.1, 'versicolor'],\n",
       "       [5.9, 3.2, 4.8, 1.8, 'versicolor'],\n",
       "       [6.1, 2.8, 4.0, 1.3, 'versicolor'],\n",
       "       [6.3, 2.5, 4.9, 1.5, 'versicolor'],\n",
       "       [6.1, 2.8, 4.7, 1.2, 'versicolor'],\n",
       "       [6.4, 2.9, 4.3, 1.3, 'versicolor'],\n",
       "       [6.6, 3.0, 4.4, 1.4, 'versicolor'],\n",
       "       [6.8, 2.8, 4.8, 1.4, 'versicolor'],\n",
       "       [6.7, 3.0, 5.0, 1.7, 'versicolor'],\n",
       "       [6.0, 2.9, 4.5, 1.5, 'versicolor'],\n",
       "       [5.7, 2.6, 3.5, 1.0, 'versicolor'],\n",
       "       [5.5, 2.4, 3.8, 1.1, 'versicolor'],\n",
       "       [5.5, 2.4, 3.7, 1.0, 'versicolor'],\n",
       "       [5.8, 2.7, 3.9, 1.2, 'versicolor'],\n",
       "       [6.0, 2.7, 5.1, 1.6, 'versicolor'],\n",
       "       [5.4, 3.0, 4.5, 1.5, 'versicolor'],\n",
       "       [6.0, 3.4, 4.5, 1.6, 'versicolor'],\n",
       "       [6.7, 3.1, 4.7, 1.5, 'versicolor'],\n",
       "       [6.3, 2.3, 4.4, 1.3, 'versicolor'],\n",
       "       [5.6, 3.0, 4.1, 1.3, 'versicolor'],\n",
       "       [5.5, 2.5, 4.0, 1.3, 'versicolor'],\n",
       "       [5.5, 2.6, 4.4, 1.2, 'versicolor'],\n",
       "       [6.1, 3.0, 4.6, 1.4, 'versicolor'],\n",
       "       [5.8, 2.6, 4.0, 1.2, 'versicolor'],\n",
       "       [5.0, 2.3, 3.3, 1.0, 'versicolor'],\n",
       "       [5.6, 2.7, 4.2, 1.3, 'versicolor'],\n",
       "       [5.7, 3.0, 4.2, 1.2, 'versicolor'],\n",
       "       [5.7, 2.9, 4.2, 1.3, 'versicolor'],\n",
       "       [6.2, 2.9, 4.3, 1.3, 'versicolor'],\n",
       "       [5.1, 2.5, 3.0, 1.1, 'versicolor'],\n",
       "       [5.7, 2.8, 4.1, 1.3, 'versicolor'],\n",
       "       [6.3, 3.3, 6.0, 2.5, 'virginica'],\n",
       "       [5.8, 2.7, 5.1, 1.9, 'virginica'],\n",
       "       [7.1, 3.0, 5.9, 2.1, 'virginica'],\n",
       "       [6.3, 2.9, 5.6, 1.8, 'virginica'],\n",
       "       [6.5, 3.0, 5.8, 2.2, 'virginica'],\n",
       "       [7.6, 3.0, 6.6, 2.1, 'virginica'],\n",
       "       [4.9, 2.5, 4.5, 1.7, 'virginica'],\n",
       "       [7.3, 2.9, 6.3, 1.8, 'virginica'],\n",
       "       [6.7, 2.5, 5.8, 1.8, 'virginica'],\n",
       "       [7.2, 3.6, 6.1, 2.5, 'virginica'],\n",
       "       [6.5, 3.2, 5.1, 2.0, 'virginica'],\n",
       "       [6.4, 2.7, 5.3, 1.9, 'virginica'],\n",
       "       [6.8, 3.0, 5.5, 2.1, 'virginica'],\n",
       "       [5.7, 2.5, 5.0, 2.0, 'virginica'],\n",
       "       [5.8, 2.8, 5.1, 2.4, 'virginica'],\n",
       "       [6.4, 3.2, 5.3, 2.3, 'virginica'],\n",
       "       [6.5, 3.0, 5.5, 1.8, 'virginica'],\n",
       "       [7.7, 3.8, 6.7, 2.2, 'virginica'],\n",
       "       [7.7, 2.6, 6.9, 2.3, 'virginica'],\n",
       "       [6.0, 2.2, 5.0, 1.5, 'virginica'],\n",
       "       [6.9, 3.2, 5.7, 2.3, 'virginica'],\n",
       "       [5.6, 2.8, 4.9, 2.0, 'virginica'],\n",
       "       [7.7, 2.8, 6.7, 2.0, 'virginica'],\n",
       "       [6.3, 2.7, 4.9, 1.8, 'virginica'],\n",
       "       [6.7, 3.3, 5.7, 2.1, 'virginica'],\n",
       "       [7.2, 3.2, 6.0, 1.8, 'virginica'],\n",
       "       [6.2, 2.8, 4.8, 1.8, 'virginica'],\n",
       "       [6.1, 3.0, 4.9, 1.8, 'virginica'],\n",
       "       [6.4, 2.8, 5.6, 2.1, 'virginica'],\n",
       "       [7.2, 3.0, 5.8, 1.6, 'virginica'],\n",
       "       [7.4, 2.8, 6.1, 1.9, 'virginica'],\n",
       "       [7.9, 3.8, 6.4, 2.0, 'virginica'],\n",
       "       [6.4, 2.8, 5.6, 2.2, 'virginica'],\n",
       "       [6.3, 2.8, 5.1, 1.5, 'virginica'],\n",
       "       [6.1, 2.6, 5.6, 1.4, 'virginica'],\n",
       "       [7.7, 3.0, 6.1, 2.3, 'virginica'],\n",
       "       [6.3, 3.4, 5.6, 2.4, 'virginica'],\n",
       "       [6.4, 3.1, 5.5, 1.8, 'virginica'],\n",
       "       [6.0, 3.0, 4.8, 1.8, 'virginica'],\n",
       "       [6.9, 3.1, 5.4, 2.1, 'virginica'],\n",
       "       [6.7, 3.1, 5.6, 2.4, 'virginica'],\n",
       "       [6.9, 3.1, 5.1, 2.3, 'virginica'],\n",
       "       [5.8, 2.7, 5.1, 1.9, 'virginica'],\n",
       "       [6.8, 3.2, 5.9, 2.3, 'virginica'],\n",
       "       [6.7, 3.3, 5.7, 2.5, 'virginica'],\n",
       "       [6.7, 3.0, 5.2, 2.3, 'virginica'],\n",
       "       [6.3, 2.5, 5.0, 1.9, 'virginica'],\n",
       "       [6.5, 3.0, 5.2, 2.0, 'virginica'],\n",
       "       [6.2, 3.4, 5.4, 2.3, 'virginica'],\n",
       "       [5.9, 3.0, 5.1, 1.8, 'virginica']], dtype=object)"
      ]
     },
     "execution_count": 29,
     "metadata": {},
     "output_type": "execute_result"
    }
   ],
   "source": [
    "iris_df = pd.read_csv(\"https://raw.githubusercontent.com/ammishra08/MachineLearning/master/Datasets/iris.csv\")\n",
    "arr=iris_df.values\n",
    "arr\n"
   ]
  },
  {
   "cell_type": "code",
   "execution_count": 30,
   "id": "7f10b362",
   "metadata": {},
   "outputs": [
    {
     "data": {
      "text/plain": [
       "array([['sepal_length', 'sepal_width', 'petal_length', 'petal_width',\n",
       "        'species'],\n",
       "       ['5.1', '3.5', '1.4', '0.2', 'setosa'],\n",
       "       ['4.9', '3.0', '1.4', '0.2', 'setosa'],\n",
       "       ['4.7', '3.2', '1.3', '0.2', 'setosa'],\n",
       "       ['4.6', '3.1', '1.5', '0.2', 'setosa'],\n",
       "       ['5.0', '3.6', '1.4', '0.2', 'setosa'],\n",
       "       ['5.4', '3.9', '1.7', '0.4', 'setosa'],\n",
       "       ['4.6', '3.4', '1.4', '0.3', 'setosa'],\n",
       "       ['5.0', '3.4', '1.5', '0.2', 'setosa'],\n",
       "       ['4.4', '2.9', '1.4', '0.2', 'setosa'],\n",
       "       ['4.9', '3.1', '1.5', '0.1', 'setosa'],\n",
       "       ['5.4', '3.7', '1.5', '0.2', 'setosa'],\n",
       "       ['4.8', '3.4', '1.6', '0.2', 'setosa'],\n",
       "       ['4.8', '3.0', '1.4', '0.1', 'setosa'],\n",
       "       ['4.3', '3.0', '1.1', '0.1', 'setosa'],\n",
       "       ['5.8', '4.0', '1.2', '0.2', 'setosa'],\n",
       "       ['5.7', '4.4', '1.5', '0.4', 'setosa'],\n",
       "       ['5.4', '3.9', '1.3', '0.4', 'setosa'],\n",
       "       ['5.1', '3.5', '1.4', '0.3', 'setosa'],\n",
       "       ['5.7', '3.8', '1.7', '0.3', 'setosa'],\n",
       "       ['5.1', '3.8', '1.5', '0.3', 'setosa'],\n",
       "       ['5.4', '3.4', '1.7', '0.2', 'setosa'],\n",
       "       ['5.1', '3.7', '1.5', '0.4', 'setosa'],\n",
       "       ['4.6', '3.6', '1.0', '0.2', 'setosa'],\n",
       "       ['5.1', '3.3', '1.7', '0.5', 'setosa'],\n",
       "       ['4.8', '3.4', '1.9', '0.2', 'setosa'],\n",
       "       ['5.0', '3.0', '1.6', '0.2', 'setosa'],\n",
       "       ['5.0', '3.4', '1.6', '0.4', 'setosa'],\n",
       "       ['5.2', '3.5', '1.5', '0.2', 'setosa'],\n",
       "       ['5.2', '3.4', '1.4', '0.2', 'setosa'],\n",
       "       ['4.7', '3.2', '1.6', '0.2', 'setosa'],\n",
       "       ['4.8', '3.1', '1.6', '0.2', 'setosa'],\n",
       "       ['5.4', '3.4', '1.5', '0.4', 'setosa'],\n",
       "       ['5.2', '4.1', '1.5', '0.1', 'setosa'],\n",
       "       ['5.5', '4.2', '1.4', '0.2', 'setosa'],\n",
       "       ['4.9', '3.1', '1.5', '0.2', 'setosa'],\n",
       "       ['5.0', '3.2', '1.2', '0.2', 'setosa'],\n",
       "       ['5.5', '3.5', '1.3', '0.2', 'setosa'],\n",
       "       ['4.9', '3.6', '1.4', '0.1', 'setosa'],\n",
       "       ['4.4', '3.0', '1.3', '0.2', 'setosa'],\n",
       "       ['5.1', '3.4', '1.5', '0.2', 'setosa'],\n",
       "       ['5.0', '3.5', '1.3', '0.3', 'setosa'],\n",
       "       ['4.5', '2.3', '1.3', '0.3', 'setosa'],\n",
       "       ['4.4', '3.2', '1.3', '0.2', 'setosa'],\n",
       "       ['5.0', '3.5', '1.6', '0.6', 'setosa'],\n",
       "       ['5.1', '3.8', '1.9', '0.4', 'setosa'],\n",
       "       ['4.8', '3.0', '1.4', '0.3', 'setosa'],\n",
       "       ['5.1', '3.8', '1.6', '0.2', 'setosa'],\n",
       "       ['4.6', '3.2', '1.4', '0.2', 'setosa'],\n",
       "       ['5.3', '3.7', '1.5', '0.2', 'setosa'],\n",
       "       ['5.0', '3.3', '1.4', '0.2', 'setosa'],\n",
       "       ['7.0', '3.2', '4.7', '1.4', 'versicolor'],\n",
       "       ['6.4', '3.2', '4.5', '1.5', 'versicolor'],\n",
       "       ['6.9', '3.1', '4.9', '1.5', 'versicolor'],\n",
       "       ['5.5', '2.3', '4.0', '1.3', 'versicolor'],\n",
       "       ['6.5', '2.8', '4.6', '1.5', 'versicolor'],\n",
       "       ['5.7', '2.8', '4.5', '1.3', 'versicolor'],\n",
       "       ['6.3', '3.3', '4.7', '1.6', 'versicolor'],\n",
       "       ['4.9', '2.4', '3.3', '1.0', 'versicolor'],\n",
       "       ['6.6', '2.9', '4.6', '1.3', 'versicolor'],\n",
       "       ['5.2', '2.7', '3.9', '1.4', 'versicolor'],\n",
       "       ['5.0', '2.0', '3.5', '1.0', 'versicolor'],\n",
       "       ['5.9', '3.0', '4.2', '1.5', 'versicolor'],\n",
       "       ['6.0', '2.2', '4.0', '1.0', 'versicolor'],\n",
       "       ['6.1', '2.9', '4.7', '1.4', 'versicolor'],\n",
       "       ['5.6', '2.9', '3.6', '1.3', 'versicolor'],\n",
       "       ['6.7', '3.1', '4.4', '1.4', 'versicolor'],\n",
       "       ['5.6', '3.0', '4.5', '1.5', 'versicolor'],\n",
       "       ['5.8', '2.7', '4.1', '1.0', 'versicolor'],\n",
       "       ['6.2', '2.2', '4.5', '1.5', 'versicolor'],\n",
       "       ['5.6', '2.5', '3.9', '1.1', 'versicolor'],\n",
       "       ['5.9', '3.2', '4.8', '1.8', 'versicolor'],\n",
       "       ['6.1', '2.8', '4.0', '1.3', 'versicolor'],\n",
       "       ['6.3', '2.5', '4.9', '1.5', 'versicolor'],\n",
       "       ['6.1', '2.8', '4.7', '1.2', 'versicolor'],\n",
       "       ['6.4', '2.9', '4.3', '1.3', 'versicolor'],\n",
       "       ['6.6', '3.0', '4.4', '1.4', 'versicolor'],\n",
       "       ['6.8', '2.8', '4.8', '1.4', 'versicolor'],\n",
       "       ['6.7', '3.0', '5.0', '1.7', 'versicolor'],\n",
       "       ['6.0', '2.9', '4.5', '1.5', 'versicolor'],\n",
       "       ['5.7', '2.6', '3.5', '1.0', 'versicolor'],\n",
       "       ['5.5', '2.4', '3.8', '1.1', 'versicolor'],\n",
       "       ['5.5', '2.4', '3.7', '1.0', 'versicolor'],\n",
       "       ['5.8', '2.7', '3.9', '1.2', 'versicolor'],\n",
       "       ['6.0', '2.7', '5.1', '1.6', 'versicolor'],\n",
       "       ['5.4', '3.0', '4.5', '1.5', 'versicolor'],\n",
       "       ['6.0', '3.4', '4.5', '1.6', 'versicolor'],\n",
       "       ['6.7', '3.1', '4.7', '1.5', 'versicolor'],\n",
       "       ['6.3', '2.3', '4.4', '1.3', 'versicolor'],\n",
       "       ['5.6', '3.0', '4.1', '1.3', 'versicolor'],\n",
       "       ['5.5', '2.5', '4.0', '1.3', 'versicolor'],\n",
       "       ['5.5', '2.6', '4.4', '1.2', 'versicolor'],\n",
       "       ['6.1', '3.0', '4.6', '1.4', 'versicolor'],\n",
       "       ['5.8', '2.6', '4.0', '1.2', 'versicolor'],\n",
       "       ['5.0', '2.3', '3.3', '1.0', 'versicolor'],\n",
       "       ['5.6', '2.7', '4.2', '1.3', 'versicolor'],\n",
       "       ['5.7', '3.0', '4.2', '1.2', 'versicolor'],\n",
       "       ['5.7', '2.9', '4.2', '1.3', 'versicolor'],\n",
       "       ['6.2', '2.9', '4.3', '1.3', 'versicolor'],\n",
       "       ['5.1', '2.5', '3.0', '1.1', 'versicolor'],\n",
       "       ['5.7', '2.8', '4.1', '1.3', 'versicolor'],\n",
       "       ['6.3', '3.3', '6.0', '2.5', 'virginica'],\n",
       "       ['5.8', '2.7', '5.1', '1.9', 'virginica'],\n",
       "       ['7.1', '3.0', '5.9', '2.1', 'virginica'],\n",
       "       ['6.3', '2.9', '5.6', '1.8', 'virginica'],\n",
       "       ['6.5', '3.0', '5.8', '2.2', 'virginica'],\n",
       "       ['7.6', '3.0', '6.6', '2.1', 'virginica'],\n",
       "       ['4.9', '2.5', '4.5', '1.7', 'virginica'],\n",
       "       ['7.3', '2.9', '6.3', '1.8', 'virginica'],\n",
       "       ['6.7', '2.5', '5.8', '1.8', 'virginica'],\n",
       "       ['7.2', '3.6', '6.1', '2.5', 'virginica'],\n",
       "       ['6.5', '3.2', '5.1', '2.0', 'virginica'],\n",
       "       ['6.4', '2.7', '5.3', '1.9', 'virginica'],\n",
       "       ['6.8', '3.0', '5.5', '2.1', 'virginica'],\n",
       "       ['5.7', '2.5', '5.0', '2.0', 'virginica'],\n",
       "       ['5.8', '2.8', '5.1', '2.4', 'virginica'],\n",
       "       ['6.4', '3.2', '5.3', '2.3', 'virginica'],\n",
       "       ['6.5', '3.0', '5.5', '1.8', 'virginica'],\n",
       "       ['7.7', '3.8', '6.7', '2.2', 'virginica'],\n",
       "       ['7.7', '2.6', '6.9', '2.3', 'virginica'],\n",
       "       ['6.0', '2.2', '5.0', '1.5', 'virginica'],\n",
       "       ['6.9', '3.2', '5.7', '2.3', 'virginica'],\n",
       "       ['5.6', '2.8', '4.9', '2.0', 'virginica'],\n",
       "       ['7.7', '2.8', '6.7', '2.0', 'virginica'],\n",
       "       ['6.3', '2.7', '4.9', '1.8', 'virginica'],\n",
       "       ['6.7', '3.3', '5.7', '2.1', 'virginica'],\n",
       "       ['7.2', '3.2', '6.0', '1.8', 'virginica'],\n",
       "       ['6.2', '2.8', '4.8', '1.8', 'virginica'],\n",
       "       ['6.1', '3.0', '4.9', '1.8', 'virginica'],\n",
       "       ['6.4', '2.8', '5.6', '2.1', 'virginica'],\n",
       "       ['7.2', '3.0', '5.8', '1.6', 'virginica'],\n",
       "       ['7.4', '2.8', '6.1', '1.9', 'virginica'],\n",
       "       ['7.9', '3.8', '6.4', '2.0', 'virginica'],\n",
       "       ['6.4', '2.8', '5.6', '2.2', 'virginica'],\n",
       "       ['6.3', '2.8', '5.1', '1.5', 'virginica'],\n",
       "       ['6.1', '2.6', '5.6', '1.4', 'virginica'],\n",
       "       ['7.7', '3.0', '6.1', '2.3', 'virginica'],\n",
       "       ['6.3', '3.4', '5.6', '2.4', 'virginica'],\n",
       "       ['6.4', '3.1', '5.5', '1.8', 'virginica'],\n",
       "       ['6.0', '3.0', '4.8', '1.8', 'virginica'],\n",
       "       ['6.9', '3.1', '5.4', '2.1', 'virginica'],\n",
       "       ['6.7', '3.1', '5.6', '2.4', 'virginica'],\n",
       "       ['6.9', '3.1', '5.1', '2.3', 'virginica'],\n",
       "       ['5.8', '2.7', '5.1', '1.9', 'virginica'],\n",
       "       ['6.8', '3.2', '5.9', '2.3', 'virginica'],\n",
       "       ['6.7', '3.3', '5.7', '2.5', 'virginica'],\n",
       "       ['6.7', '3.0', '5.2', '2.3', 'virginica'],\n",
       "       ['6.3', '2.5', '5.0', '1.9', 'virginica'],\n",
       "       ['6.5', '3.0', '5.2', '2.0', 'virginica'],\n",
       "       ['6.2', '3.4', '5.4', '2.3', 'virginica'],\n",
       "       ['5.9', '3.0', '5.1', '1.8', 'virginica']], dtype='<U12')"
      ]
     },
     "execution_count": 30,
     "metadata": {},
     "output_type": "execute_result"
    }
   ],
   "source": [
    "# iris_df.dropna(how = 'any').shape\n",
    "a=np.genfromtxt(\"https://raw.githubusercontent.com/ammishra08/MachineLearning/master/Datasets/iris.csv\",dtype=str,delimiter=',')\n",
    "a"
   ]
  },
  {
   "cell_type": "markdown",
   "id": "02c127f2",
   "metadata": {},
   "source": [
    "## 18.\tSort the Admission dataset array based on TOEFL Score column and GRE Score. Use separate code for both. "
   ]
  },
  {
   "cell_type": "code",
   "execution_count": 31,
   "id": "febb9e40",
   "metadata": {},
   "outputs": [
    {
     "data": {
      "text/plain": [
       "368     92\n",
       "28      93\n",
       "79      93\n",
       "411     94\n",
       "347     94\n",
       "      ... \n",
       "81     120\n",
       "97     120\n",
       "297    120\n",
       "143    120\n",
       "497    120\n",
       "Name: TOEFL Score, Length: 500, dtype: int64"
      ]
     },
     "execution_count": 31,
     "metadata": {},
     "output_type": "execute_result"
    }
   ],
   "source": [
    "ad_df = pd.read_csv(\"https://raw.githubusercontent.com/ammishra08/MachineLearning/master/Datasets/Admission.csv\")\n",
    "\n",
    "ad_df['TOEFL Score'].sort_values()\n"
   ]
  },
  {
   "cell_type": "code",
   "execution_count": 32,
   "id": "038f75d2",
   "metadata": {},
   "outputs": [
    {
     "data": {
      "text/plain": [
       "377    290\n",
       "117    290\n",
       "168    293\n",
       "79     294\n",
       "272    294\n",
       "      ... \n",
       "81     340\n",
       "84     340\n",
       "143    340\n",
       "384    340\n",
       "429    340\n",
       "Name: GRE Score, Length: 500, dtype: int64"
      ]
     },
     "execution_count": 32,
     "metadata": {},
     "output_type": "execute_result"
    }
   ],
   "source": [
    "ad_df['GRE Score'].sort_values()\n"
   ]
  },
  {
   "cell_type": "markdown",
   "id": "0b85fab9",
   "metadata": {},
   "source": [
    "## 19.\tCompute the Euclidean distance between two arrays using Numpy linalg?"
   ]
  },
  {
   "cell_type": "code",
   "execution_count": 33,
   "id": "f393a7ec",
   "metadata": {},
   "outputs": [
    {
     "data": {
      "text/plain": [
       "8.0"
      ]
     },
     "execution_count": 33,
     "metadata": {},
     "output_type": "execute_result"
    }
   ],
   "source": [
    "arr1=np.array([1,2,3,4])\n",
    "arr2=np.array([5,6,7,8])\n",
    "distance=np.linalg.norm(arr1-arr2)\n",
    "distance"
   ]
  },
  {
   "cell_type": "markdown",
   "id": "0a095f06",
   "metadata": {},
   "source": [
    "## 20. Compute and Find the duplicate entries in the given Numpy array and mark them as True. Create 1-D array "
   ]
  },
  {
   "cell_type": "code",
   "execution_count": 34,
   "id": "f406f1b3",
   "metadata": {},
   "outputs": [
    {
     "name": "stdout",
     "output_type": "stream",
     "text": [
      "array : [1 2 3 2 4 4]\n",
      "[False, False, False, True, False, True]\n"
     ]
    }
   ],
   "source": [
    "# array1=np.random.randint(0,5,10)\n",
    "array1=np.array([1,2,3,2,4,4])\n",
    "uniques=np.unique(array1)\n",
    "res=[]\n",
    "for i in array1:\n",
    "    if i not in uniques:\n",
    "        res.append(True)\n",
    "    else:\n",
    "        res.append(False)\n",
    "        uniques=np.delete(uniques,np.where(uniques==i))\n",
    "print(\"array :\",array1)\n",
    "print(res)"
   ]
  },
  {
   "cell_type": "code",
   "execution_count": 35,
   "id": "04307bb5",
   "metadata": {},
   "outputs": [
    {
     "name": "stdout",
     "output_type": "stream",
     "text": [
      "array: [1 2 3 2 3]\n"
     ]
    },
    {
     "data": {
      "text/plain": [
       "[False, False, False, True, True]"
      ]
     },
     "execution_count": 35,
     "metadata": {},
     "output_type": "execute_result"
    }
   ],
   "source": [
    "array1=np.array([1,2,3,2,3])\n",
    "res=[]\n",
    "uniques=[]\n",
    "def duplicates(array1):\n",
    "    for i in array1:\n",
    "        if i in uniques:\n",
    "            res.append(True)\n",
    "        else:\n",
    "            res.append(False)\n",
    "            uniques.append(i)\n",
    "    return res\n",
    "print(\"array:\",array1)\n",
    "duplicates(array1)\n",
    "            "
   ]
  },
  {
   "cell_type": "markdown",
   "id": "10abd237",
   "metadata": {},
   "source": [
    "## 21.How to replace all missing values with 0, in a numpy array using Admission.csv and iris.csv?\n"
   ]
  },
  {
   "cell_type": "code",
   "execution_count": 36,
   "id": "d0465e1c",
   "metadata": {},
   "outputs": [
    {
     "data": {
      "text/html": [
       "<div>\n",
       "<style scoped>\n",
       "    .dataframe tbody tr th:only-of-type {\n",
       "        vertical-align: middle;\n",
       "    }\n",
       "\n",
       "    .dataframe tbody tr th {\n",
       "        vertical-align: top;\n",
       "    }\n",
       "\n",
       "    .dataframe thead th {\n",
       "        text-align: right;\n",
       "    }\n",
       "</style>\n",
       "<table border=\"1\" class=\"dataframe\">\n",
       "  <thead>\n",
       "    <tr style=\"text-align: right;\">\n",
       "      <th></th>\n",
       "      <th>sepal_length</th>\n",
       "      <th>sepal_width</th>\n",
       "      <th>petal_length</th>\n",
       "      <th>petal_width</th>\n",
       "      <th>species</th>\n",
       "    </tr>\n",
       "  </thead>\n",
       "  <tbody>\n",
       "    <tr>\n",
       "      <th>0</th>\n",
       "      <td>False</td>\n",
       "      <td>False</td>\n",
       "      <td>False</td>\n",
       "      <td>False</td>\n",
       "      <td>False</td>\n",
       "    </tr>\n",
       "    <tr>\n",
       "      <th>1</th>\n",
       "      <td>False</td>\n",
       "      <td>False</td>\n",
       "      <td>False</td>\n",
       "      <td>False</td>\n",
       "      <td>False</td>\n",
       "    </tr>\n",
       "    <tr>\n",
       "      <th>2</th>\n",
       "      <td>False</td>\n",
       "      <td>False</td>\n",
       "      <td>False</td>\n",
       "      <td>False</td>\n",
       "      <td>False</td>\n",
       "    </tr>\n",
       "    <tr>\n",
       "      <th>3</th>\n",
       "      <td>False</td>\n",
       "      <td>False</td>\n",
       "      <td>False</td>\n",
       "      <td>False</td>\n",
       "      <td>False</td>\n",
       "    </tr>\n",
       "    <tr>\n",
       "      <th>4</th>\n",
       "      <td>False</td>\n",
       "      <td>False</td>\n",
       "      <td>False</td>\n",
       "      <td>False</td>\n",
       "      <td>False</td>\n",
       "    </tr>\n",
       "    <tr>\n",
       "      <th>...</th>\n",
       "      <td>...</td>\n",
       "      <td>...</td>\n",
       "      <td>...</td>\n",
       "      <td>...</td>\n",
       "      <td>...</td>\n",
       "    </tr>\n",
       "    <tr>\n",
       "      <th>145</th>\n",
       "      <td>False</td>\n",
       "      <td>False</td>\n",
       "      <td>False</td>\n",
       "      <td>False</td>\n",
       "      <td>False</td>\n",
       "    </tr>\n",
       "    <tr>\n",
       "      <th>146</th>\n",
       "      <td>False</td>\n",
       "      <td>False</td>\n",
       "      <td>False</td>\n",
       "      <td>False</td>\n",
       "      <td>False</td>\n",
       "    </tr>\n",
       "    <tr>\n",
       "      <th>147</th>\n",
       "      <td>False</td>\n",
       "      <td>False</td>\n",
       "      <td>False</td>\n",
       "      <td>False</td>\n",
       "      <td>False</td>\n",
       "    </tr>\n",
       "    <tr>\n",
       "      <th>148</th>\n",
       "      <td>False</td>\n",
       "      <td>False</td>\n",
       "      <td>False</td>\n",
       "      <td>False</td>\n",
       "      <td>False</td>\n",
       "    </tr>\n",
       "    <tr>\n",
       "      <th>149</th>\n",
       "      <td>False</td>\n",
       "      <td>False</td>\n",
       "      <td>False</td>\n",
       "      <td>False</td>\n",
       "      <td>False</td>\n",
       "    </tr>\n",
       "  </tbody>\n",
       "</table>\n",
       "<p>150 rows × 5 columns</p>\n",
       "</div>"
      ],
      "text/plain": [
       "     sepal_length  sepal_width  petal_length  petal_width  species\n",
       "0           False        False         False        False    False\n",
       "1           False        False         False        False    False\n",
       "2           False        False         False        False    False\n",
       "3           False        False         False        False    False\n",
       "4           False        False         False        False    False\n",
       "..            ...          ...           ...          ...      ...\n",
       "145         False        False         False        False    False\n",
       "146         False        False         False        False    False\n",
       "147         False        False         False        False    False\n",
       "148         False        False         False        False    False\n",
       "149         False        False         False        False    False\n",
       "\n",
       "[150 rows x 5 columns]"
      ]
     },
     "execution_count": 36,
     "metadata": {},
     "output_type": "execute_result"
    }
   ],
   "source": [
    "iris_df.isnull()\n"
   ]
  },
  {
   "cell_type": "code",
   "execution_count": 37,
   "id": "2f9a340a",
   "metadata": {},
   "outputs": [
    {
     "data": {
      "text/html": [
       "<div>\n",
       "<style scoped>\n",
       "    .dataframe tbody tr th:only-of-type {\n",
       "        vertical-align: middle;\n",
       "    }\n",
       "\n",
       "    .dataframe tbody tr th {\n",
       "        vertical-align: top;\n",
       "    }\n",
       "\n",
       "    .dataframe thead th {\n",
       "        text-align: right;\n",
       "    }\n",
       "</style>\n",
       "<table border=\"1\" class=\"dataframe\">\n",
       "  <thead>\n",
       "    <tr style=\"text-align: right;\">\n",
       "      <th></th>\n",
       "      <th>Serial No.</th>\n",
       "      <th>GRE Score</th>\n",
       "      <th>TOEFL Score</th>\n",
       "      <th>University Rating</th>\n",
       "      <th>SOP</th>\n",
       "      <th>LOR</th>\n",
       "      <th>CGPA</th>\n",
       "      <th>Research</th>\n",
       "      <th>Chance of Admit</th>\n",
       "    </tr>\n",
       "  </thead>\n",
       "  <tbody>\n",
       "    <tr>\n",
       "      <th>0</th>\n",
       "      <td>False</td>\n",
       "      <td>False</td>\n",
       "      <td>False</td>\n",
       "      <td>False</td>\n",
       "      <td>False</td>\n",
       "      <td>False</td>\n",
       "      <td>False</td>\n",
       "      <td>False</td>\n",
       "      <td>False</td>\n",
       "    </tr>\n",
       "    <tr>\n",
       "      <th>1</th>\n",
       "      <td>False</td>\n",
       "      <td>False</td>\n",
       "      <td>False</td>\n",
       "      <td>False</td>\n",
       "      <td>False</td>\n",
       "      <td>False</td>\n",
       "      <td>False</td>\n",
       "      <td>False</td>\n",
       "      <td>False</td>\n",
       "    </tr>\n",
       "    <tr>\n",
       "      <th>2</th>\n",
       "      <td>False</td>\n",
       "      <td>False</td>\n",
       "      <td>False</td>\n",
       "      <td>False</td>\n",
       "      <td>False</td>\n",
       "      <td>False</td>\n",
       "      <td>False</td>\n",
       "      <td>False</td>\n",
       "      <td>False</td>\n",
       "    </tr>\n",
       "    <tr>\n",
       "      <th>3</th>\n",
       "      <td>False</td>\n",
       "      <td>False</td>\n",
       "      <td>False</td>\n",
       "      <td>False</td>\n",
       "      <td>False</td>\n",
       "      <td>False</td>\n",
       "      <td>False</td>\n",
       "      <td>False</td>\n",
       "      <td>False</td>\n",
       "    </tr>\n",
       "    <tr>\n",
       "      <th>4</th>\n",
       "      <td>False</td>\n",
       "      <td>False</td>\n",
       "      <td>False</td>\n",
       "      <td>False</td>\n",
       "      <td>False</td>\n",
       "      <td>False</td>\n",
       "      <td>False</td>\n",
       "      <td>False</td>\n",
       "      <td>False</td>\n",
       "    </tr>\n",
       "    <tr>\n",
       "      <th>...</th>\n",
       "      <td>...</td>\n",
       "      <td>...</td>\n",
       "      <td>...</td>\n",
       "      <td>...</td>\n",
       "      <td>...</td>\n",
       "      <td>...</td>\n",
       "      <td>...</td>\n",
       "      <td>...</td>\n",
       "      <td>...</td>\n",
       "    </tr>\n",
       "    <tr>\n",
       "      <th>495</th>\n",
       "      <td>False</td>\n",
       "      <td>False</td>\n",
       "      <td>False</td>\n",
       "      <td>False</td>\n",
       "      <td>False</td>\n",
       "      <td>False</td>\n",
       "      <td>False</td>\n",
       "      <td>False</td>\n",
       "      <td>False</td>\n",
       "    </tr>\n",
       "    <tr>\n",
       "      <th>496</th>\n",
       "      <td>False</td>\n",
       "      <td>False</td>\n",
       "      <td>False</td>\n",
       "      <td>False</td>\n",
       "      <td>False</td>\n",
       "      <td>False</td>\n",
       "      <td>False</td>\n",
       "      <td>False</td>\n",
       "      <td>False</td>\n",
       "    </tr>\n",
       "    <tr>\n",
       "      <th>497</th>\n",
       "      <td>False</td>\n",
       "      <td>False</td>\n",
       "      <td>False</td>\n",
       "      <td>False</td>\n",
       "      <td>False</td>\n",
       "      <td>False</td>\n",
       "      <td>False</td>\n",
       "      <td>False</td>\n",
       "      <td>False</td>\n",
       "    </tr>\n",
       "    <tr>\n",
       "      <th>498</th>\n",
       "      <td>False</td>\n",
       "      <td>False</td>\n",
       "      <td>False</td>\n",
       "      <td>False</td>\n",
       "      <td>False</td>\n",
       "      <td>False</td>\n",
       "      <td>False</td>\n",
       "      <td>False</td>\n",
       "      <td>False</td>\n",
       "    </tr>\n",
       "    <tr>\n",
       "      <th>499</th>\n",
       "      <td>False</td>\n",
       "      <td>False</td>\n",
       "      <td>False</td>\n",
       "      <td>False</td>\n",
       "      <td>False</td>\n",
       "      <td>False</td>\n",
       "      <td>False</td>\n",
       "      <td>False</td>\n",
       "      <td>False</td>\n",
       "    </tr>\n",
       "  </tbody>\n",
       "</table>\n",
       "<p>500 rows × 9 columns</p>\n",
       "</div>"
      ],
      "text/plain": [
       "     Serial No.  GRE Score  TOEFL Score  University Rating    SOP   LOR   \\\n",
       "0         False      False        False              False  False  False   \n",
       "1         False      False        False              False  False  False   \n",
       "2         False      False        False              False  False  False   \n",
       "3         False      False        False              False  False  False   \n",
       "4         False      False        False              False  False  False   \n",
       "..          ...        ...          ...                ...    ...    ...   \n",
       "495       False      False        False              False  False  False   \n",
       "496       False      False        False              False  False  False   \n",
       "497       False      False        False              False  False  False   \n",
       "498       False      False        False              False  False  False   \n",
       "499       False      False        False              False  False  False   \n",
       "\n",
       "      CGPA  Research  Chance of Admit   \n",
       "0    False     False             False  \n",
       "1    False     False             False  \n",
       "2    False     False             False  \n",
       "3    False     False             False  \n",
       "4    False     False             False  \n",
       "..     ...       ...               ...  \n",
       "495  False     False             False  \n",
       "496  False     False             False  \n",
       "497  False     False             False  \n",
       "498  False     False             False  \n",
       "499  False     False             False  \n",
       "\n",
       "[500 rows x 9 columns]"
      ]
     },
     "execution_count": 37,
     "metadata": {},
     "output_type": "execute_result"
    }
   ],
   "source": [
    "ad_df.isnull()"
   ]
  },
  {
   "cell_type": "code",
   "execution_count": null,
   "id": "66707399",
   "metadata": {},
   "outputs": [],
   "source": []
  }
 ],
 "metadata": {
  "kernelspec": {
   "display_name": "Python 3 (ipykernel)",
   "language": "python",
   "name": "python3"
  },
  "language_info": {
   "codemirror_mode": {
    "name": "ipython",
    "version": 3
   },
   "file_extension": ".py",
   "mimetype": "text/x-python",
   "name": "python",
   "nbconvert_exporter": "python",
   "pygments_lexer": "ipython3",
   "version": "3.9.7"
  }
 },
 "nbformat": 4,
 "nbformat_minor": 5
}
