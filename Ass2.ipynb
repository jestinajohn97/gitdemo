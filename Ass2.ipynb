{
 "cells": [
  {
   "cell_type": "markdown",
   "id": "68fb4b44",
   "metadata": {},
   "source": [
    "# numpy - numerical python"
   ]
  },
  {
   "cell_type": "code",
   "execution_count": 1,
   "id": "90b894c6",
   "metadata": {},
   "outputs": [
    {
     "name": "stdout",
     "output_type": "stream",
     "text": [
      "1.20.3\n"
     ]
    }
   ],
   "source": [
    "import numpy as np\n",
    "print(np.__version__)\n"
   ]
  },
  {
   "cell_type": "code",
   "execution_count": 2,
   "id": "cfc8e610",
   "metadata": {},
   "outputs": [
    {
     "data": {
      "text/plain": [
       "array([1, 2, 3, 4, 5, 6])"
      ]
     },
     "metadata": {},
     "output_type": "display_data"
    },
    {
     "name": "stdout",
     "output_type": "stream",
     "text": [
      "<class 'numpy.ndarray'>\n",
      "1\n"
     ]
    },
    {
     "data": {
      "text/plain": [
       "24"
      ]
     },
     "execution_count": 2,
     "metadata": {},
     "output_type": "execute_result"
    }
   ],
   "source": [
    "a=np.array([1,2,3,4,5,6])\n",
    "display(a)\n",
    "print(type(a))\n",
    "a.dtype\n",
    "a.itemsize\n",
    "a.shape\n",
    "print(a.ndim)\n",
    "a.nbytes"
   ]
  },
  {
   "cell_type": "code",
   "execution_count": 3,
   "id": "b2d4ddba",
   "metadata": {},
   "outputs": [
    {
     "data": {
      "text/plain": [
       "array([1, 2, 3, 4, 5, 6])"
      ]
     },
     "execution_count": 3,
     "metadata": {},
     "output_type": "execute_result"
    }
   ],
   "source": [
    "b=a.copy()\n",
    "b"
   ]
  },
  {
   "cell_type": "code",
   "execution_count": 4,
   "id": "758fa8a4",
   "metadata": {},
   "outputs": [
    {
     "data": {
      "text/plain": [
       "[1, 2, 3, 4, 5, 6]"
      ]
     },
     "execution_count": 4,
     "metadata": {},
     "output_type": "execute_result"
    }
   ],
   "source": [
    "b.tolist()"
   ]
  },
  {
   "cell_type": "markdown",
   "id": "29eeed88",
   "metadata": {},
   "source": [
    "# array operations"
   ]
  },
  {
   "cell_type": "code",
   "execution_count": 5,
   "id": "49d1797b",
   "metadata": {},
   "outputs": [
    {
     "name": "stdout",
     "output_type": "stream",
     "text": [
      "[ 2  4  6  8 11 13]\n"
     ]
    }
   ],
   "source": [
    "# Simple Array Math\n",
    "# Element by element addition\n",
    "a = np.array([1, 2, 3, 4, 6, 7])\n",
    "b = np.array([1, 2, 3, 4, 5, 6])\n",
    "\n",
    "print(a + b)\n"
   ]
  },
  {
   "cell_type": "code",
   "execution_count": 6,
   "id": "b1932ca0",
   "metadata": {},
   "outputs": [
    {
     "data": {
      "text/plain": [
       "array([ 1,  4,  9, 16, 30, 42])"
      ]
     },
     "execution_count": 6,
     "metadata": {},
     "output_type": "execute_result"
    }
   ],
   "source": [
    "a * b\n",
    "\n"
   ]
  },
  {
   "cell_type": "code",
   "execution_count": 7,
   "id": "2a9fb21d",
   "metadata": {},
   "outputs": [
    {
     "data": {
      "text/plain": [
       "array([     1,      4,     27,    256,   7776, 117649], dtype=int32)"
      ]
     },
     "execution_count": 7,
     "metadata": {},
     "output_type": "execute_result"
    }
   ],
   "source": [
    "a ** b"
   ]
  },
  {
   "cell_type": "code",
   "execution_count": 8,
   "id": "9fd17fef",
   "metadata": {},
   "outputs": [
    {
     "data": {
      "text/plain": [
       "array([ 0.,  1.,  2.,  3.,  4.,  5.,  6.,  7.,  8.,  9., 10.])"
      ]
     },
     "execution_count": 8,
     "metadata": {},
     "output_type": "execute_result"
    }
   ],
   "source": [
    "# Math Functions\n",
    "\n",
    "# create array from 0 to 10 = Generate 11 elements\n",
    "x = np.arange(11.)\n",
    "x"
   ]
  },
  {
   "cell_type": "code",
   "execution_count": 9,
   "id": "a9d0aa38",
   "metadata": {
    "collapsed": true
   },
   "outputs": [
    {
     "name": "stdout",
     "output_type": "stream",
     "text": [
      "arange([start,] stop[, step,], dtype=None, *, like=None)\n",
      "\n",
      "    Return evenly spaced values within a given interval.\n",
      "\n",
      "    Values are generated within the half-open interval ``[start, stop)``\n",
      "    (in other words, the interval including `start` but excluding `stop`).\n",
      "    For integer arguments the function is equivalent to the Python built-in\n",
      "    `range` function, but returns an ndarray rather than a list.\n",
      "\n",
      "    When using a non-integer step, such as 0.1, the results will often not\n",
      "    be consistent.  It is better to use `numpy.linspace` for these cases.\n",
      "\n",
      "    Parameters\n",
      "    ----------\n",
      "    start : integer or real, optional\n",
      "        Start of interval.  The interval includes this value.  The default\n",
      "        start value is 0.\n",
      "    stop : integer or real\n",
      "        End of interval.  The interval does not include this value, except\n",
      "        in some cases where `step` is not an integer and floating point\n",
      "        round-off affects the length of `out`.\n",
      "    step : integer or real, optional\n",
      "        Spacing between values.  For any output `out`, this is the distance\n",
      "        between two adjacent values, ``out[i+1] - out[i]``.  The default\n",
      "        step size is 1.  If `step` is specified as a position argument,\n",
      "        `start` must also be given.\n",
      "    dtype : dtype\n",
      "        The type of the output array.  If `dtype` is not given, infer the data\n",
      "        type from the other input arguments.\n",
      "    like : array_like\n",
      "        Reference object to allow the creation of arrays which are not\n",
      "        NumPy arrays. If an array-like passed in as ``like`` supports\n",
      "        the ``__array_function__`` protocol, the result will be defined\n",
      "        by it. In this case, it ensures the creation of an array object\n",
      "        compatible with that passed in via this argument.\n",
      "\n",
      "        .. note::\n",
      "            The ``like`` keyword is an experimental feature pending on\n",
      "            acceptance of :ref:`NEP 35 <NEP35>`.\n",
      "\n",
      "        .. versionadded:: 1.20.0\n",
      "\n",
      "    Returns\n",
      "    -------\n",
      "    arange : ndarray\n",
      "        Array of evenly spaced values.\n",
      "\n",
      "        For floating point arguments, the length of the result is\n",
      "        ``ceil((stop - start)/step)``.  Because of floating point overflow,\n",
      "        this rule may result in the last element of `out` being greater\n",
      "        than `stop`.\n",
      "\n",
      "    See Also\n",
      "    --------\n",
      "    numpy.linspace : Evenly spaced numbers with careful handling of endpoints.\n",
      "    numpy.ogrid: Arrays of evenly spaced numbers in N-dimensions.\n",
      "    numpy.mgrid: Grid-shaped arrays of evenly spaced numbers in N-dimensions.\n",
      "\n",
      "    Examples\n",
      "    --------\n",
      "    >>> np.arange(3)\n",
      "    array([0, 1, 2])\n",
      "    >>> np.arange(3.0)\n",
      "    array([ 0.,  1.,  2.])\n",
      "    >>> np.arange(3,7)\n",
      "    array([3, 4, 5, 6])\n",
      "    >>> np.arange(3,7,2)\n",
      "    array([3, 5])\n"
     ]
    }
   ],
   "source": [
    "print(np.arange.__doc__)\n",
    "\n"
   ]
  },
  {
   "cell_type": "code",
   "execution_count": 10,
   "id": "b240303d",
   "metadata": {},
   "outputs": [
    {
     "data": {
      "text/plain": [
       "array([ 1.,  2.,  3.,  4.,  5.,  6.,  7.,  8.,  9., 10., 11., 12., 13.,\n",
       "       14., 15.])"
      ]
     },
     "execution_count": 10,
     "metadata": {},
     "output_type": "execute_result"
    }
   ],
   "source": [
    "# start, stop, step\n",
    "np.arange(1., 16., 2)\n",
    "\n",
    "# start, stop, steps\n",
    "np.arange(1., 16.)"
   ]
  },
  {
   "cell_type": "markdown",
   "id": "b5e570f9",
   "metadata": {},
   "source": [
    "# why numpy arrays are better than lists"
   ]
  },
  {
   "cell_type": "code",
   "execution_count": 11,
   "id": "9c6da2a1",
   "metadata": {},
   "outputs": [
    {
     "name": "stdout",
     "output_type": "stream",
     "text": [
      "0.1921253204345703 0.005270957946777344\n",
      "Numpy in this example is 36.449791930522885 faster\n"
     ]
    }
   ],
   "source": [
    "import time\n",
    "import numpy as np\n",
    "\n",
    "vector_size = 1000000\n",
    "\n",
    "def python_version():\n",
    "    t1 = time.time()\n",
    "    X = range(vector_size)\n",
    "    Y = range(vector_size)\n",
    "    # element by element addition\n",
    "    Z = [ X[i] + Y[i] for i in range(len(X)) ]\n",
    "    return time.time() - t1\n",
    "\n",
    "def numpy_version():\n",
    "    t1 = time.time()\n",
    "    X = np.arange(vector_size)\n",
    "    Y = np.arange(vector_size)\n",
    "    Z = X + Y\n",
    "    return time.time() - t1\n",
    "\n",
    "t1 = python_version()\n",
    "t2 = numpy_version()\n",
    "print(t1, t2)\n",
    "\n",
    "print(\"Numpy in this example is \" + str(t1/t2) + \" faster\")\n"
   ]
  },
  {
   "cell_type": "code",
   "execution_count": 12,
   "id": "8f6b919a",
   "metadata": {},
   "outputs": [
    {
     "name": "stdout",
     "output_type": "stream",
     "text": [
      "[ 0.  1.  2.  3.  4.  5.  6.  7.  8.  9. 10.]\n",
      "1\n",
      "[11  2  3  4  6  7]\n"
     ]
    }
   ],
   "source": [
    "np.pi\n",
    "\n",
    "x * np.pi\n",
    "\n",
    "# applying a function to numpy array\n",
    "print(x)\n",
    "np.sin(x)\n",
    "\n",
    "# exponential\n",
    "np.e\n",
    "\n",
    "\n",
    "# Array Indexing\n",
    "a = np.array([1, 2, 3, 4, 6, 7])\n",
    "print(a[0])\n",
    "\n",
    "# Assigning a float into int32 array, it will truncate decimal part\n",
    "a[0] = 11.987654\n",
    "print(a)\n",
    "\n"
   ]
  },
  {
   "cell_type": "code",
   "execution_count": 13,
   "id": "8858325e",
   "metadata": {},
   "outputs": [
    {
     "name": "stdout",
     "output_type": "stream",
     "text": [
      "[11.  2.  3.  4.  6.  7.]\n",
      "[11.987654  2.        3.        4.        6.        7.      ]\n"
     ]
    }
   ],
   "source": [
    "# Change datatype of numpy array\n",
    "arr = a.astype('float32')\n",
    "\n",
    "print(arr)\n",
    "arr[0] = 11.987654\n",
    "print(arr)"
   ]
  },
  {
   "cell_type": "markdown",
   "id": "9e2bcf23",
   "metadata": {},
   "source": [
    "# correct method including float type"
   ]
  },
  {
   "cell_type": "code",
   "execution_count": 14,
   "id": "8b169dca",
   "metadata": {},
   "outputs": [
    {
     "name": "stdout",
     "output_type": "stream",
     "text": [
      "[-4 -4 -4 -4 -4 -4]\n"
     ]
    }
   ],
   "source": [
    "# fill has some behavior.\n",
    "a.fill(-4.7)\n",
    "print(a)\n",
    "\n",
    "\n"
   ]
  },
  {
   "cell_type": "code",
   "execution_count": 15,
   "id": "e71ac783",
   "metadata": {},
   "outputs": [
    {
     "name": "stdout",
     "output_type": "stream",
     "text": [
      "[-7.2 -7.2 -7.2 -7.2 -7.2 -7.2]\n"
     ]
    }
   ],
   "source": [
    "arr_1 = np.empty(6, dtype = 'float32')\n",
    "arr_1.fill(-7.2)\n",
    "print(arr_1)\n",
    "\n"
   ]
  },
  {
   "cell_type": "code",
   "execution_count": 16,
   "id": "6dc98249",
   "metadata": {},
   "outputs": [
    {
     "name": "stdout",
     "output_type": "stream",
     "text": [
      "[111.5 200.6 120.  300.  410.5 501.2  60.8]\n"
     ]
    }
   ],
   "source": [
    "# dtype = float16. float32, float64\n",
    "arr_2 = np.array([111.5, 200.6, 120, 300, 410.5, 501.2, 60.8], dtype = 'float16')\n",
    "print(arr_2)\n",
    "\n"
   ]
  },
  {
   "cell_type": "code",
   "execution_count": 17,
   "id": "5377461e",
   "metadata": {},
   "outputs": [
    {
     "name": "stdout",
     "output_type": "stream",
     "text": [
      "7.0 11.987654 3.0 3.0\n"
     ]
    }
   ],
   "source": [
    "# print array at index values 0, 1, 2, 3, 4, 5 ..\n",
    "print(arr[-1], arr[0], arr[2], arr[-4])"
   ]
  },
  {
   "cell_type": "markdown",
   "id": "7683482e",
   "metadata": {},
   "source": [
    "# multidimensional array"
   ]
  },
  {
   "cell_type": "code",
   "execution_count": 18,
   "id": "a9fbf703",
   "metadata": {},
   "outputs": [
    {
     "name": "stdout",
     "output_type": "stream",
     "text": [
      "[[ 0  1  2  3  4  5]\n",
      " [10 11 12 13 14 15]]\n"
     ]
    }
   ],
   "source": [
    "# Create a 2-D Array\n",
    "arr_2 = np.array([[0, 1, 2, 3, 4, 5],\n",
    "                  [10, 11, 12, 13, 14, 15]])\n",
    "print(arr_2)\n"
   ]
  },
  {
   "cell_type": "code",
   "execution_count": 19,
   "id": "b92343a0",
   "metadata": {},
   "outputs": [
    {
     "data": {
      "text/plain": [
       "(2, 6)"
      ]
     },
     "execution_count": 19,
     "metadata": {},
     "output_type": "execute_result"
    }
   ],
   "source": [
    "\n",
    "# Shape = (Rows, Columns)\n",
    "arr_2.shape\n"
   ]
  },
  {
   "cell_type": "code",
   "execution_count": 20,
   "id": "9a2a29b5",
   "metadata": {},
   "outputs": [
    {
     "data": {
      "text/plain": [
       "12"
      ]
     },
     "execution_count": 20,
     "metadata": {},
     "output_type": "execute_result"
    }
   ],
   "source": [
    "\n",
    "# array size = no of elements in 2D array\n",
    "arr_2.size\n"
   ]
  },
  {
   "cell_type": "code",
   "execution_count": 21,
   "id": "bb0182c7",
   "metadata": {},
   "outputs": [
    {
     "data": {
      "text/plain": [
       "2"
      ]
     },
     "execution_count": 21,
     "metadata": {},
     "output_type": "execute_result"
    }
   ],
   "source": [
    "\n",
    "# Dimention\n",
    "arr_2.ndim\n"
   ]
  },
  {
   "cell_type": "code",
   "execution_count": 22,
   "id": "f888b669",
   "metadata": {},
   "outputs": [
    {
     "name": "stdout",
     "output_type": "stream",
     "text": [
      "[[ 0  1  2  3  4  5]\n",
      " [10 11 12 13 14 15]]\n"
     ]
    }
   ],
   "source": [
    "\n",
    "# Get/Set Elements in N-D Array\n",
    "print(arr_2)"
   ]
  },
  {
   "cell_type": "code",
   "execution_count": 23,
   "id": "78f010ce",
   "metadata": {},
   "outputs": [
    {
     "data": {
      "text/plain": [
       "15"
      ]
     },
     "execution_count": 23,
     "metadata": {},
     "output_type": "execute_result"
    }
   ],
   "source": [
    "\n",
    "# Indexing with 2-D Array\n",
    "# first -1 is for last row & second -1 is for last column\n",
    "arr_2[-1, -1]\n",
    "\n"
   ]
  },
  {
   "cell_type": "code",
   "execution_count": 24,
   "id": "bcfb9263",
   "metadata": {},
   "outputs": [
    {
     "data": {
      "text/plain": [
       "array([ 2, 12])"
      ]
     },
     "execution_count": 24,
     "metadata": {},
     "output_type": "execute_result"
    }
   ],
   "source": [
    "\n",
    "# Display 3rd column, ':' means all rows\n",
    "arr_2[:,2]\n"
   ]
  },
  {
   "cell_type": "code",
   "execution_count": 25,
   "id": "520afc00",
   "metadata": {},
   "outputs": [
    {
     "data": {
      "text/plain": [
       "array([0, 1, 2, 3, 4, 5])"
      ]
     },
     "execution_count": 25,
     "metadata": {},
     "output_type": "execute_result"
    }
   ],
   "source": [
    "\n",
    "# Display 1st row\n",
    "arr_2[0]\n"
   ]
  },
  {
   "cell_type": "code",
   "execution_count": 26,
   "id": "383f89ee",
   "metadata": {},
   "outputs": [
    {
     "data": {
      "text/plain": [
       "array([ 2, 12])"
      ]
     },
     "execution_count": 26,
     "metadata": {},
     "output_type": "execute_result"
    }
   ],
   "source": [
    "# Display 3rd column, ':' means all rows\n",
    "arr_2[:,2]\n"
   ]
  },
  {
   "cell_type": "code",
   "execution_count": 27,
   "id": "1c47fc00",
   "metadata": {},
   "outputs": [
    {
     "data": {
      "text/plain": [
       "array([0, 1, 2, 3, 4, 5])"
      ]
     },
     "execution_count": 27,
     "metadata": {},
     "output_type": "execute_result"
    }
   ],
   "source": [
    "# Display 1st row\n",
    "arr_2[0]"
   ]
  },
  {
   "cell_type": "code",
   "execution_count": 28,
   "id": "b81ffc0e",
   "metadata": {},
   "outputs": [
    {
     "data": {
      "text/plain": [
       "array([[ 0,  1,  2, 33,  4,  5],\n",
       "       [10, 11, 12, 13, 14, 15]])"
      ]
     },
     "execution_count": 28,
     "metadata": {},
     "output_type": "execute_result"
    }
   ],
   "source": [
    "# update the existing data in 2D Array\n",
    "arr_2[0, 3] = 33\n",
    "arr_2\n",
    "\n"
   ]
  },
  {
   "cell_type": "code",
   "execution_count": 29,
   "id": "591b7707",
   "metadata": {},
   "outputs": [
    {
     "data": {
      "text/plain": [
       "array([10, 11, 12, 13, 14, 15, 16])"
      ]
     },
     "execution_count": 29,
     "metadata": {},
     "output_type": "execute_result"
    }
   ],
   "source": [
    "arr_3 = np.array([10, 11, 12, 13, 14, 15, 16])\n",
    "arr_3\n"
   ]
  },
  {
   "cell_type": "code",
   "execution_count": 30,
   "id": "4140561a",
   "metadata": {},
   "outputs": [
    {
     "data": {
      "text/plain": [
       "array([11, 12, 13, 14, 15])"
      ]
     },
     "execution_count": 30,
     "metadata": {},
     "output_type": "execute_result"
    }
   ],
   "source": [
    "\n",
    "# start index \n",
    "arr_3[1:6]\n",
    "\n"
   ]
  },
  {
   "cell_type": "code",
   "execution_count": 31,
   "id": "8d0dd88f",
   "metadata": {},
   "outputs": [
    {
     "data": {
      "text/plain": [
       "array([10, 12, 14, 16])"
      ]
     },
     "execution_count": 31,
     "metadata": {},
     "output_type": "execute_result"
    }
   ],
   "source": [
    "# displaying every another element\n",
    "# for 1D\n",
    "arr_3[::2]\n",
    "\n"
   ]
  },
  {
   "cell_type": "code",
   "execution_count": 32,
   "id": "b1d7afb6",
   "metadata": {},
   "outputs": [
    {
     "data": {
      "text/plain": [
       "array([10, 12, 14, 16])"
      ]
     },
     "execution_count": 32,
     "metadata": {},
     "output_type": "execute_result"
    }
   ],
   "source": [
    "# displaying every another element\n",
    "# for 1D\n",
    "arr_3[::2]"
   ]
  },
  {
   "cell_type": "markdown",
   "id": "ea9457be",
   "metadata": {},
   "source": [
    "# array slicing"
   ]
  },
  {
   "cell_type": "code",
   "execution_count": 33,
   "id": "d0840247",
   "metadata": {},
   "outputs": [
    {
     "data": {
      "text/plain": [
       "array([[ 0,  1,  2,  3,  4,  5],\n",
       "       [ 6,  7,  8,  9, 10, 11],\n",
       "       [12, 13, 14, 15, 16, 17],\n",
       "       [18, 19, 20, 21, 22, 23],\n",
       "       [24, 25, 26, 27, 28, 29],\n",
       "       [30, 31, 32, 33, 34, 35]])"
      ]
     },
     "execution_count": 33,
     "metadata": {},
     "output_type": "execute_result"
    }
   ],
   "source": [
    "arr_3 = np.arange(0, 36).reshape(6,6)\n",
    "arr_3\n",
    "\n",
    "\n"
   ]
  },
  {
   "cell_type": "code",
   "execution_count": 34,
   "id": "ab2aa680",
   "metadata": {},
   "outputs": [
    {
     "data": {
      "text/plain": [
       "array([1, 2, 3, 4])"
      ]
     },
     "execution_count": 34,
     "metadata": {},
     "output_type": "execute_result"
    }
   ],
   "source": [
    "# slicing works much like standard python slicing\n",
    "arr_3 [0, 1:5]"
   ]
  },
  {
   "cell_type": "markdown",
   "id": "b33b14ed",
   "metadata": {},
   "source": [
    "# reverse an array"
   ]
  },
  {
   "cell_type": "code",
   "execution_count": 35,
   "id": "6d6478a6",
   "metadata": {},
   "outputs": [
    {
     "name": "stdout",
     "output_type": "stream",
     "text": [
      "[ 0  1  2  3  4  5  6  7  8  9 10 11 12 13 14 15 16 17 18 19 20 21 22 23\n",
      " 24 25 26 27 28 29 30 31 32 33 34 35 36 37 38 39 40 41 42 43 44 45 46 47\n",
      " 48 49]\n"
     ]
    }
   ],
   "source": [
    "arr_4 = np.arange(50)\n",
    "print(arr_4)\n"
   ]
  },
  {
   "cell_type": "code",
   "execution_count": 36,
   "id": "3d0afa8d",
   "metadata": {},
   "outputs": [
    {
     "data": {
      "text/plain": [
       "array([49, 48, 47, 46, 45, 44, 43, 42, 41, 40, 39, 38, 37, 36, 35, 34, 33,\n",
       "       32, 31, 30, 29, 28, 27, 26, 25, 24, 23, 22, 21, 20, 19, 18, 17, 16,\n",
       "       15, 14, 13, 12, 11, 10,  9,  8,  7,  6,  5,  4,  3,  2,  1,  0])"
      ]
     },
     "execution_count": 36,
     "metadata": {},
     "output_type": "execute_result"
    }
   ],
   "source": [
    "# -1 at index position reverses the array\n",
    "arr_4 = arr_4[::-1]\n",
    "arr_4"
   ]
  },
  {
   "cell_type": "code",
   "execution_count": 37,
   "id": "7b05cf93",
   "metadata": {},
   "outputs": [
    {
     "name": "stdout",
     "output_type": "stream",
     "text": [
      "[0 1 2 3 4 5 6 7 8]\n",
      "[8 7 6 5 4 3 2 1 0]\n"
     ]
    }
   ],
   "source": [
    "# Alternative method to reverse an array\n",
    "arr_5 = np.array([0, 1, 2, 3, 4, 5, 6, 7, 8])\n",
    "print(arr_5)\n",
    "reversed_arr = np.flipud(arr_5)\n",
    "print(reversed_arr)\n"
   ]
  },
  {
   "cell_type": "markdown",
   "id": "6cb8ca0d",
   "metadata": {},
   "source": [
    "# array functions\n",
    "\n",
    "1. arange\n",
    "2.Ones,Zeros"
   ]
  },
  {
   "cell_type": "code",
   "execution_count": 38,
   "id": "45889475",
   "metadata": {},
   "outputs": [
    {
     "data": {
      "text/plain": [
       "array([[1., 1., 1., 1., 1., 1.],\n",
       "       [1., 1., 1., 1., 1., 1.],\n",
       "       [1., 1., 1., 1., 1., 1.]], dtype=float32)"
      ]
     },
     "execution_count": 38,
     "metadata": {},
     "output_type": "execute_result"
    }
   ],
   "source": [
    "# 3 rows & 6 columns\n",
    "np.ones((3, 6), dtype = 'float32')"
   ]
  },
  {
   "cell_type": "code",
   "execution_count": 39,
   "id": "04253e9e",
   "metadata": {},
   "outputs": [
    {
     "data": {
      "text/plain": [
       "array([[0, 0, 0, 0, 0],\n",
       "       [0, 0, 0, 0, 0],\n",
       "       [0, 0, 0, 0, 0],\n",
       "       [0, 0, 0, 0, 0],\n",
       "       [0, 0, 0, 0, 0]], dtype=uint8)"
      ]
     },
     "execution_count": 39,
     "metadata": {},
     "output_type": "execute_result"
    }
   ],
   "source": [
    "\n",
    "np.zeros((5, 5), dtype = 'uint8')     # uint8 = 0-255, int8 = -128 to +127\n",
    "\n"
   ]
  },
  {
   "cell_type": "code",
   "execution_count": 40,
   "id": "067f1e8a",
   "metadata": {},
   "outputs": [
    {
     "data": {
      "text/plain": [
       "array([0., 0., 0., 0., 0., 0.])"
      ]
     },
     "execution_count": 40,
     "metadata": {},
     "output_type": "execute_result"
    }
   ],
   "source": [
    "np.zeros(6)"
   ]
  },
  {
   "cell_type": "markdown",
   "id": "78ffed5a",
   "metadata": {},
   "source": [
    "3. Identity\n",
    "\n",
    " create a N by N indentity matrix.the default datatype if float64"
   ]
  },
  {
   "cell_type": "code",
   "execution_count": 41,
   "id": "77eee98e",
   "metadata": {},
   "outputs": [
    {
     "name": "stdout",
     "output_type": "stream",
     "text": [
      "[[1. 0. 0. 0. 0. 0. 0.]\n",
      " [0. 1. 0. 0. 0. 0. 0.]\n",
      " [0. 0. 1. 0. 0. 0. 0.]\n",
      " [0. 0. 0. 1. 0. 0. 0.]\n",
      " [0. 0. 0. 0. 1. 0. 0.]\n",
      " [0. 0. 0. 0. 0. 1. 0.]\n",
      " [0. 0. 0. 0. 0. 0. 1.]]\n"
     ]
    }
   ],
   "source": [
    "# Idenity Matrix\n",
    "arr_7 = np.identity(7)         # Identity array have diagonal values as 1.\n",
    "print(arr_7)\n"
   ]
  },
  {
   "cell_type": "code",
   "execution_count": 42,
   "id": "c169aa90",
   "metadata": {},
   "outputs": [
    {
     "name": "stdout",
     "output_type": "stream",
     "text": [
      "[[1 0 0 0 0 0 0]\n",
      " [0 1 0 0 0 0 0]\n",
      " [0 0 1 0 0 0 0]\n",
      " [0 0 0 1 0 0 0]\n",
      " [0 0 0 0 1 0 0]\n",
      " [0 0 0 0 0 1 0]\n",
      " [0 0 0 0 0 0 1]]\n"
     ]
    }
   ],
   "source": [
    "\n",
    "arr_8 = np.identity(7, dtype = 'int')\n",
    "print(arr_8)"
   ]
  },
  {
   "cell_type": "markdown",
   "id": "4a253411",
   "metadata": {},
   "source": [
    "4. empty and fill\n",
    "\n",
    "empty(shape,dtype='float64',order='C')"
   ]
  },
  {
   "cell_type": "code",
   "execution_count": 43,
   "id": "9fddfe03",
   "metadata": {},
   "outputs": [
    {
     "data": {
      "text/plain": [
       "array([1.24610994e-306, 1.37959808e-306, 9.34604358e-307, 1.44635488e-307,\n",
       "       1.33511562e-306])"
      ]
     },
     "execution_count": 43,
     "metadata": {},
     "output_type": "execute_result"
    }
   ],
   "source": [
    "np.empty(5)\n",
    "\n"
   ]
  },
  {
   "cell_type": "code",
   "execution_count": 44,
   "id": "e45dcb8d",
   "metadata": {},
   "outputs": [
    {
     "data": {
      "text/plain": [
       "array([5., 5., 5., 5., 5.])"
      ]
     },
     "execution_count": 44,
     "metadata": {},
     "output_type": "execute_result"
    }
   ],
   "source": [
    "np.full(5, 5.0)"
   ]
  },
  {
   "cell_type": "code",
   "execution_count": 45,
   "id": "21538a01",
   "metadata": {},
   "outputs": [
    {
     "data": {
      "text/plain": [
       "array([5., 5., 5., 5., 5., 5.])"
      ]
     },
     "execution_count": 45,
     "metadata": {},
     "output_type": "execute_result"
    }
   ],
   "source": [
    "arr_9=np.empty(6)\n",
    "arr_9.fill(5.0)\n",
    "arr_9\n"
   ]
  },
  {
   "cell_type": "markdown",
   "id": "6574f222",
   "metadata": {},
   "source": [
    "5. LinSpace\n",
    "\n",
    "Generate N evenly spaced elements on a log scale bw start and stop(base value will be included)"
   ]
  },
  {
   "cell_type": "code",
   "execution_count": 46,
   "id": "e0acdd7a",
   "metadata": {},
   "outputs": [
    {
     "data": {
      "text/plain": [
       "array([0. , 0.2, 0.4, 0.6, 0.8, 1. ])"
      ]
     },
     "execution_count": 46,
     "metadata": {},
     "output_type": "execute_result"
    }
   ],
   "source": [
    "# (start, stop, num of elements)\n",
    "np.linspace(0, 1, 6)\n",
    "\n"
   ]
  },
  {
   "cell_type": "code",
   "execution_count": 47,
   "id": "176c224f",
   "metadata": {},
   "outputs": [
    {
     "data": {
      "text/plain": [
       "array([[0.        , 0.09090909, 0.18181818],\n",
       "       [0.27272727, 0.36363636, 0.45454545],\n",
       "       [0.54545455, 0.63636364, 0.72727273],\n",
       "       [0.81818182, 0.90909091, 1.        ]])"
      ]
     },
     "execution_count": 47,
     "metadata": {},
     "output_type": "execute_result"
    }
   ],
   "source": [
    "np.linspace(0, 1, 12).reshape(4,3)"
   ]
  },
  {
   "cell_type": "markdown",
   "id": "d95cd3d5",
   "metadata": {},
   "source": [
    "5. LogSpace\n",
    "\n",
    "Generate N evenly spaced elements on a log scale bw start and base stop(default base =10)"
   ]
  },
  {
   "cell_type": "code",
   "execution_count": 48,
   "id": "6ccfeecf",
   "metadata": {},
   "outputs": [
    {
     "data": {
      "text/plain": [
       "array([ 1.        ,  1.58489319,  2.51188643,  3.98107171,  6.30957344,\n",
       "       10.        ])"
      ]
     },
     "execution_count": 48,
     "metadata": {},
     "output_type": "execute_result"
    }
   ],
   "source": [
    "np.logspace(0, 1, 6, base = 10)"
   ]
  },
  {
   "cell_type": "markdown",
   "id": "4b34ce69",
   "metadata": {},
   "source": [
    "# exercise 2:  crate 2D array with 1 on the border & 0 inside the border"
   ]
  },
  {
   "cell_type": "code",
   "execution_count": 49,
   "id": "946ebdb5",
   "metadata": {},
   "outputs": [
    {
     "name": "stdout",
     "output_type": "stream",
     "text": [
      "[[1. 1. 1. 1. 1. 1. 1. 1. 1. 1.]\n",
      " [1. 0. 0. 0. 0. 0. 0. 0. 0. 1.]\n",
      " [1. 0. 0. 0. 0. 0. 0. 0. 0. 1.]\n",
      " [1. 0. 0. 0. 0. 0. 0. 0. 0. 1.]\n",
      " [1. 0. 0. 0. 0. 0. 0. 0. 0. 1.]\n",
      " [1. 0. 0. 0. 0. 0. 0. 0. 0. 1.]\n",
      " [1. 0. 0. 0. 0. 0. 0. 0. 0. 1.]\n",
      " [1. 0. 0. 0. 0. 0. 0. 0. 0. 1.]\n",
      " [1. 0. 0. 0. 0. 0. 0. 0. 0. 1.]\n",
      " [1. 1. 1. 1. 1. 1. 1. 1. 1. 1.]]\n"
     ]
    }
   ],
   "source": [
    "# shape of array = 10 x 10\n",
    "arr_10 = np.ones((10,10))\n",
    "arr_10[1:-1, 1:-1] = 0\n",
    "print(arr_10)\n"
   ]
  },
  {
   "cell_type": "code",
   "execution_count": 50,
   "id": "f239fd7c",
   "metadata": {},
   "outputs": [
    {
     "name": "stdout",
     "output_type": "stream",
     "text": [
      "[[0. 0. 0. 0. 0. 0. 0. 0. 0. 0.]\n",
      " [0. 2. 2. 2. 2. 2. 2. 2. 2. 0.]\n",
      " [0. 2. 2. 2. 2. 2. 2. 2. 2. 0.]\n",
      " [0. 2. 2. 2. 2. 2. 2. 2. 2. 0.]\n",
      " [0. 2. 2. 2. 2. 2. 2. 2. 2. 0.]\n",
      " [0. 2. 2. 2. 2. 2. 2. 2. 2. 0.]\n",
      " [0. 2. 2. 2. 2. 2. 2. 2. 2. 0.]\n",
      " [0. 2. 2. 2. 2. 2. 2. 2. 2. 0.]\n",
      " [0. 2. 2. 2. 2. 2. 2. 2. 2. 0.]\n",
      " [0. 0. 0. 0. 0. 0. 0. 0. 0. 0.]]\n"
     ]
    }
   ],
   "source": [
    "arr_10 = np.zeros((10,10))\n",
    "arr_10[1:-1, 1:-1] = 2\n",
    "print(arr_10)"
   ]
  },
  {
   "cell_type": "markdown",
   "id": "5cf9015a",
   "metadata": {},
   "source": [
    "#  exercise 2:  create 8x8 array with 1 and 0 in sequence"
   ]
  },
  {
   "cell_type": "code",
   "execution_count": 51,
   "id": "b4076496",
   "metadata": {},
   "outputs": [
    {
     "name": "stdout",
     "output_type": "stream",
     "text": [
      "[[0 1 0 1 0 1 0 1]\n",
      " [1 0 1 0 1 0 1 0]\n",
      " [0 1 0 1 0 1 0 1]\n",
      " [1 0 1 0 1 0 1 0]\n",
      " [0 1 0 1 0 1 0 1]\n",
      " [1 0 1 0 1 0 1 0]\n",
      " [0 1 0 1 0 1 0 1]\n",
      " [1 0 1 0 1 0 1 0]]\n"
     ]
    }
   ],
   "source": [
    "arr_10 = np.zeros((8,8),dtype='int8')\n",
    "arr_10[1::2, ::2] = 1\n",
    "arr_10[::2, 1::2] = 1\n",
    "print(arr_10)"
   ]
  },
  {
   "cell_type": "markdown",
   "id": "aad9a27e",
   "metadata": {},
   "source": [
    "7.Arrays from / to txt files.\n",
    "\n",
    "loadtxt() automatically generates an array from txt file"
   ]
  },
  {
   "cell_type": "code",
   "execution_count": 56,
   "id": "1708c83e",
   "metadata": {},
   "outputs": [
    {
     "data": {
      "text/plain": [
       "array([['1,', 'Shelly,', '88'],\n",
       "       ['2,', 'Jack,', '96'],\n",
       "       ['3,', 'Dyllan,', '65'],\n",
       "       ['4,', 'Kate,', '79'],\n",
       "       ['5,', 'Lily,', '78']], dtype='<U7')"
      ]
     },
     "execution_count": 56,
     "metadata": {},
     "output_type": "execute_result"
    }
   ],
   "source": [
    "array_1 = np.loadtxt(\"E:/python/Dummy.txt\", dtype = 'str', delimiter = \" \", skiprows=1)\n",
    "array_1\n",
    "\n"
   ]
  },
  {
   "cell_type": "code",
   "execution_count": 57,
   "id": "30b8be9c",
   "metadata": {},
   "outputs": [
    {
     "data": {
      "text/plain": [
       "array([['1', ' Shelly', ' 88'],\n",
       "       ['2', ' Jack', ' 96'],\n",
       "       ['3', ' Dyllan', ' 65'],\n",
       "       ['4', ' Kate', ' 79'],\n",
       "       ['5', ' Lily', ' 78']], dtype='<U7')"
      ]
     },
     "execution_count": 57,
     "metadata": {},
     "output_type": "execute_result"
    }
   ],
   "source": [
    "array_2 = np.loadtxt(\"E:/python/Dummy.csv\", dtype = 'str', delimiter = \",\", skiprows=1)\n",
    "array_2\n",
    "\n"
   ]
  },
  {
   "cell_type": "code",
   "execution_count": 58,
   "id": "485559a4",
   "metadata": {},
   "outputs": [],
   "source": [
    "array_3 = [[10, 20, 30, 40, 50],\n",
    "            [15, 25, 35, 45, 65]]\n",
    "\n",
    "np.savetxt('E:/python/filename.txt', array_3, encoding = 'utf-8')\n"
   ]
  },
  {
   "cell_type": "code",
   "execution_count": 60,
   "id": "7aa96d46",
   "metadata": {},
   "outputs": [],
   "source": [
    "np.savetxt('E:/python/filename.txt', array_3, encoding = 'utf-8')\n"
   ]
  },
  {
   "cell_type": "markdown",
   "id": "747763fd",
   "metadata": {},
   "source": [
    "# numpy array calculation methods"
   ]
  },
  {
   "cell_type": "code",
   "execution_count": 77,
   "id": "4f68849f",
   "metadata": {},
   "outputs": [
    {
     "data": {
      "text/plain": [
       "22"
      ]
     },
     "execution_count": 77,
     "metadata": {},
     "output_type": "execute_result"
    }
   ],
   "source": [
    "array_4 = np.array([[1, 2, 4],\n",
    "                    [4, 5, 6]])\n",
    "array_4.sum()\n"
   ]
  },
  {
   "cell_type": "code",
   "execution_count": null,
   "id": "a7c12102",
   "metadata": {},
   "outputs": [],
   "source": [
    "\n",
    "# supply the keyword axis to sum along the 0th axis\n",
    "array_4.sum(axis = 0)\n"
   ]
  },
  {
   "cell_type": "code",
   "execution_count": null,
   "id": "2d3ca0ff",
   "metadata": {},
   "outputs": [],
   "source": [
    "\n",
    "# supply the keyword axis to sum along the 1st axis\n",
    "array_4.sum(axis = 1)\n"
   ]
  },
  {
   "cell_type": "code",
   "execution_count": null,
   "id": "45cbe527",
   "metadata": {},
   "outputs": [],
   "source": [
    "\n",
    "# Min Method\n",
    "array_5 = np.array([2., 3., 4., 5., 9., 8.])\n",
    "array_5.min(axis = 0)    # This returns minimum values along axis = 0\n"
   ]
  },
  {
   "cell_type": "code",
   "execution_count": null,
   "id": "392455cb",
   "metadata": {},
   "outputs": [],
   "source": [
    "\n",
    "# numpy's min()\n",
    "np.min(array_5, axis = 0)\n"
   ]
  },
  {
   "cell_type": "code",
   "execution_count": null,
   "id": "60aced06",
   "metadata": {},
   "outputs": [],
   "source": [
    "\n",
    "# np.argmax - Use this for converting into decimal values\n",
    "array_6 = [0., 0., 0., 0., 0., 1., 1., 0.]\n",
    "np.argmax(array_6, axis = 0)"
   ]
  },
  {
   "cell_type": "code",
   "execution_count": null,
   "id": "f7abd254",
   "metadata": {},
   "outputs": [],
   "source": [
    "# np.argmax - Use this for converting into decimal values\n",
    "array_6 = [0., 0., 0., 0., 0., 1., 1., 0.]\n",
    "np.argmax(array_6, axis = 0)"
   ]
  },
  {
   "cell_type": "markdown",
   "id": "f8574a70",
   "metadata": {},
   "source": [
    "# Statistics Array Methods\n"
   ]
  },
  {
   "cell_type": "code",
   "execution_count": null,
   "id": "af7f2e3a",
   "metadata": {},
   "outputs": [],
   "source": [
    "array_7 = np.array([[1, 2, 4],\n",
    "                  [4, 5, 7]], float)\n",
    "array_7\n"
   ]
  },
  {
   "cell_type": "code",
   "execution_count": null,
   "id": "caff1cae",
   "metadata": {},
   "outputs": [],
   "source": [
    "\n",
    "# mean value of each column\n",
    "array_7.mean(axis = 0)\n",
    "\n",
    "np.mean(array_7, axis = 0)\n",
    "\n"
   ]
  },
  {
   "cell_type": "code",
   "execution_count": null,
   "id": "708db851",
   "metadata": {},
   "outputs": [],
   "source": [
    "np.average(array_7, axis = 1)\n"
   ]
  },
  {
   "cell_type": "code",
   "execution_count": null,
   "id": "5112a4de",
   "metadata": {},
   "outputs": [],
   "source": [
    "\n",
    "# average() can be also used for calculating weighted average\n",
    "np.average(array_7, weights=[1,2], axis = 0)"
   ]
  },
  {
   "cell_type": "code",
   "execution_count": null,
   "id": "ef311ced",
   "metadata": {},
   "outputs": [],
   "source": [
    "# Std Deviation - Measures the deviation of sample from its mean.\n",
    "array_7.std(axis = 0)\n",
    "\n"
   ]
  },
  {
   "cell_type": "code",
   "execution_count": null,
   "id": "cbeab2d3",
   "metadata": {},
   "outputs": [],
   "source": [
    "# VARIANCE \n",
    "array_7.var(axis = 0)"
   ]
  },
  {
   "cell_type": "code",
   "execution_count": null,
   "id": "371c4968",
   "metadata": {},
   "outputs": [],
   "source": [
    "# ROUND\n",
    "arr = np.array([1.25, 3.24, 1.5, 2.5, 4.5, 3.6])\n",
    "arr.round()\n"
   ]
  },
  {
   "cell_type": "markdown",
   "id": "3a5dbda6",
   "metadata": {},
   "source": [
    "# Array broadcasting\n",
    "\n",
    "Numpy array of differnet dimentionality can be combned in the same expression. arrays with smaller dimension are broadcasted to match the larger rry with copying data"
   ]
  },
  {
   "cell_type": "code",
   "execution_count": null,
   "id": "1fdeb0e5",
   "metadata": {},
   "outputs": [],
   "source": [
    "# BROADCAST\n",
    "a = np.ones((3,5))\n",
    "a\n",
    "\n",
    "\n",
    "\n"
   ]
  },
  {
   "cell_type": "code",
   "execution_count": 68,
   "id": "a4c4a493",
   "metadata": {},
   "outputs": [
    {
     "data": {
      "text/plain": [
       "array([[1., 1., 1., 1., 1.],\n",
       "       [1., 1., 1., 1., 1.],\n",
       "       [1., 1., 1., 1., 1.]])"
      ]
     },
     "execution_count": 68,
     "metadata": {},
     "output_type": "execute_result"
    }
   ],
   "source": [
    "# BROADCAST\n",
    "b = np.ones((3,5))\n",
    "b\n",
    "\n"
   ]
  },
  {
   "cell_type": "code",
   "execution_count": 74,
   "id": "6fd0c821",
   "metadata": {},
   "outputs": [
    {
     "data": {
      "text/plain": [
       "array([[1., 1., 1., 1., 1., 1., 1., 1., 1., 1., 1., 1., 1., 1., 1.]])"
      ]
     },
     "execution_count": 74,
     "metadata": {},
     "output_type": "execute_result"
    }
   ],
   "source": [
    "# reshape \n",
    "b = b.reshape(1, 15)\n",
    "b\n"
   ]
  },
  {
   "cell_type": "code",
   "execution_count": 70,
   "id": "399ef3bc",
   "metadata": {},
   "outputs": [
    {
     "data": {
      "text/plain": [
       "array([[16, 11, 13, 10, 19],\n",
       "       [10, 10, 18, 12, 10],\n",
       "       [14, 18, 14, 16, 13]])"
      ]
     },
     "execution_count": 70,
     "metadata": {},
     "output_type": "execute_result"
    }
   ],
   "source": [
    "# Generate random integers\n",
    "a = np.random.randint(10, 20, size = (3,5))\n",
    "a\n",
    "\n"
   ]
  },
  {
   "cell_type": "code",
   "execution_count": 63,
   "id": "f8a461d8",
   "metadata": {},
   "outputs": [
    {
     "data": {
      "text/plain": [
       "array([[19., 13., 20., 17., 17.],\n",
       "       [13., 14., 19., 17., 17.],\n",
       "       [12., 19., 11., 16., 13.]])"
      ]
     },
     "metadata": {},
     "output_type": "display_data"
    },
    {
     "ename": "ValueError",
     "evalue": "operands could not be broadcast together with shapes (5,) (3,) ",
     "output_type": "error",
     "traceback": [
      "\u001b[1;31m---------------------------------------------------------------------------\u001b[0m",
      "\u001b[1;31mValueError\u001b[0m                                Traceback (most recent call last)",
      "\u001b[1;32m~\\AppData\\Local\\Temp/ipykernel_5332/1932359151.py\u001b[0m in \u001b[0;36m<module>\u001b[1;34m\u001b[0m\n\u001b[0;32m      7\u001b[0m \u001b[0mb\u001b[0m \u001b[1;33m=\u001b[0m \u001b[0mnp\u001b[0m\u001b[1;33m.\u001b[0m\u001b[0mrandom\u001b[0m\u001b[1;33m.\u001b[0m\u001b[0mrandint\u001b[0m\u001b[1;33m(\u001b[0m\u001b[1;36m10\u001b[0m\u001b[1;33m,\u001b[0m \u001b[1;36m50\u001b[0m\u001b[1;33m,\u001b[0m \u001b[0msize\u001b[0m \u001b[1;33m=\u001b[0m \u001b[1;36m3\u001b[0m\u001b[1;33m)\u001b[0m\u001b[1;33m\u001b[0m\u001b[1;33m\u001b[0m\u001b[0m\n\u001b[0;32m      8\u001b[0m \u001b[1;33m\u001b[0m\u001b[0m\n\u001b[1;32m----> 9\u001b[1;33m \u001b[0ma\u001b[0m \u001b[1;33m+\u001b[0m \u001b[0mb\u001b[0m\u001b[1;33m\u001b[0m\u001b[1;33m\u001b[0m\u001b[0m\n\u001b[0m",
      "\u001b[1;31mValueError\u001b[0m: operands could not be broadcast together with shapes (5,) (3,) "
     ]
    }
   ],
   "source": [
    "b = np.ones(5,)\n",
    "b.reshape(1, 5)\n",
    "\n",
    "c = a + b\n",
    "display(c)\n",
    "a = np.random.randint(10, 50, size = 5)\n",
    "b = np.random.randint(10, 50, size = 3)\n",
    "\n",
    "a + b"
   ]
  },
  {
   "cell_type": "markdown",
   "id": "d2476007",
   "metadata": {},
   "source": [
    "# structure operations"
   ]
  },
  {
   "cell_type": "code",
   "execution_count": 76,
   "id": "83e80c25",
   "metadata": {},
   "outputs": [
    {
     "data": {
      "text/plain": [
       "array([[34, 37, 15],\n",
       "       [21, 43, 23],\n",
       "       [13, 24, 17],\n",
       "       [34, 41, 17],\n",
       "       [20, 15, 29]])"
      ]
     },
     "execution_count": 76,
     "metadata": {},
     "output_type": "execute_result"
    }
   ],
   "source": [
    "# Structure Operations.\n",
    "# Transpose Method\n",
    "a = np.random.randint(10, 50, size = (5,3))\n",
    "a\n",
    "\n"
   ]
  },
  {
   "cell_type": "code",
   "execution_count": null,
   "id": "6c803401",
   "metadata": {},
   "outputs": [],
   "source": [
    "a.shape"
   ]
  },
  {
   "cell_type": "code",
   "execution_count": null,
   "id": "cd55587c",
   "metadata": {},
   "outputs": [],
   "source": [
    "a.T"
   ]
  },
  {
   "cell_type": "code",
   "execution_count": null,
   "id": "4202244f",
   "metadata": {},
   "outputs": [],
   "source": [
    "a.T.shape"
   ]
  },
  {
   "cell_type": "code",
   "execution_count": null,
   "id": "4257ac13",
   "metadata": {},
   "outputs": [],
   "source": [
    "# Flatten Method\n",
    "a = np.array([[10, 13, 16],\n",
    "               [13, 16, 19]])\n",
    "a\n",
    "\n"
   ]
  },
  {
   "cell_type": "code",
   "execution_count": 75,
   "id": "cd0749a5",
   "metadata": {},
   "outputs": [
    {
     "data": {
      "text/plain": [
       "(3, 5)"
      ]
     },
     "execution_count": 75,
     "metadata": {},
     "output_type": "execute_result"
    }
   ],
   "source": [
    "\n",
    "a.shape"
   ]
  },
  {
   "cell_type": "code",
   "execution_count": null,
   "id": "f675eaee",
   "metadata": {},
   "outputs": [],
   "source": [
    "\n",
    "# Flatten 2-D\n",
    "\n",
    "\n",
    "a.flatten()\n"
   ]
  },
  {
   "cell_type": "code",
   "execution_count": null,
   "id": "0944fce3",
   "metadata": {},
   "outputs": [],
   "source": [
    "a = np.array([[[11, 13, 15],\n",
    "             [13, 15, 17]],\n",
    "            [[12, 15, 19],\n",
    "             [13, 15, 17]],\n",
    "            [[18, 21, 21],\n",
    "             [10, 15, 17]]])\n",
    "a.shape"
   ]
  },
  {
   "cell_type": "code",
   "execution_count": null,
   "id": "51baa0c5",
   "metadata": {},
   "outputs": [],
   "source": [
    "# Flatten out 3-D to 1D Array\n",
    "a.flatten()"
   ]
  },
  {
   "cell_type": "code",
   "execution_count": null,
   "id": "39c85795",
   "metadata": {},
   "outputs": [],
   "source": [
    "# Ravel also flattens your multidimentional to 1D\n",
    "a.ravel()\n"
   ]
  },
  {
   "cell_type": "markdown",
   "id": "2dd56036",
   "metadata": {},
   "source": [
    "#### Exercise : Given 1 array , negate all elements that falls between 3 and 8\n"
   ]
  },
  {
   "cell_type": "code",
   "execution_count": null,
   "id": "713ba7d7",
   "metadata": {},
   "outputs": [],
   "source": [
    "arr=np.arange(15)\n",
    "arr"
   ]
  },
  {
   "cell_type": "code",
   "execution_count": null,
   "id": "10fd66fa",
   "metadata": {},
   "outputs": [],
   "source": [
    "# selecting array by using their value\n",
    "arr = np.arange(15)\n",
    "n = (arr > 3) & (arr < 8)\n",
    "arr[n] *= -1\n",
    "arr\n"
   ]
  },
  {
   "cell_type": "markdown",
   "id": "cadeacb2",
   "metadata": {},
   "source": [
    "## Exercise 4 : How to find common vallues between two arrays ?"
   ]
  },
  {
   "cell_type": "code",
   "execution_count": null,
   "id": "2d3ee111",
   "metadata": {},
   "outputs": [],
   "source": [
    "arr_1 = np.random.randint(0, 10, 10)\n",
    "print(arr_1)\n",
    "\n",
    "arr_2 = np.random.randint(0, 10, 10)\n",
    "print(arr_2)\n",
    "\n",
    "np.intersect1d(arr_1, arr_2)\n"
   ]
  },
  {
   "cell_type": "markdown",
   "id": "53349ee7",
   "metadata": {},
   "source": [
    "# exercise 5 : Using Numpy array find largest values of an array"
   ]
  },
  {
   "cell_type": "markdown",
   "id": "5805fa9d",
   "metadata": {},
   "source": [
    "#### generate 10000 numbers"
   ]
  },
  {
   "cell_type": "code",
   "execution_count": null,
   "id": "32976367",
   "metadata": {},
   "outputs": [],
   "source": [
    "arr=np.arange(1,10000)\n",
    "arr\n",
    "arr.max(axis=0)"
   ]
  },
  {
   "cell_type": "code",
   "execution_count": null,
   "id": "8d67a530",
   "metadata": {},
   "outputs": [],
   "source": [
    "np.max(arr)"
   ]
  },
  {
   "cell_type": "markdown",
   "id": "37dd06a1",
   "metadata": {},
   "source": [
    "# Exercise 6:using numpy array find the n number of largest values in an array"
   ]
  },
  {
   "cell_type": "code",
   "execution_count": null,
   "id": "2079e2f0",
   "metadata": {},
   "outputs": [],
   "source": [
    "arr=np.random.randint(1,10000)\n",
    "arr"
   ]
  },
  {
   "cell_type": "code",
   "execution_count": null,
   "id": "fc4f6864",
   "metadata": {},
   "outputs": [],
   "source": [
    "arr4 = np.random.randint(1, 10000, 10000)\n",
    "\n",
    "n = int(input(\"Enter the value of n: \"))\n",
    "np.sort(arr4)[-n:]\n",
    "\n",
    "print(arr4[np.argsort(arr4)[-n:]])"
   ]
  },
  {
   "cell_type": "code",
   "execution_count": null,
   "id": "06069291",
   "metadata": {},
   "outputs": [],
   "source": [
    "print(arr4[np.argpartition(-arr4, n)[:n]])\n",
    "\n",
    "np.argsort(arr4)\n",
    "\n",
    "np.argpartition(-arr4, n)"
   ]
  },
  {
   "cell_type": "code",
   "execution_count": null,
   "id": "4981fb7c",
   "metadata": {},
   "outputs": [],
   "source": [
    "\n",
    "\n",
    "np.argsort(arr4)\n",
    "\n"
   ]
  },
  {
   "cell_type": "code",
   "execution_count": null,
   "id": "cc5258b2",
   "metadata": {},
   "outputs": [],
   "source": [
    "np.argpartition(-arr4, n)"
   ]
  },
  {
   "cell_type": "markdown",
   "id": "3de46fda",
   "metadata": {},
   "source": [
    "# Exercise 7: Get index of all null values in Numpy Array"
   ]
  },
  {
   "cell_type": "code",
   "execution_count": null,
   "id": "b2186339",
   "metadata": {},
   "outputs": [],
   "source": [
    "arr5 = np.array([[5., 7., 9.],\n",
    "                 [4., 9., np.nan],\n",
    "                [np.nan, 6, 8]])\n",
    "np.argwhere(np.isnan(arr5))"
   ]
  },
  {
   "cell_type": "code",
   "execution_count": null,
   "id": "55648f6c",
   "metadata": {},
   "outputs": [],
   "source": []
  }
 ],
 "metadata": {
  "kernelspec": {
   "display_name": "Python 3 (ipykernel)",
   "language": "python",
   "name": "python3"
  },
  "language_info": {
   "codemirror_mode": {
    "name": "ipython",
    "version": 3
   },
   "file_extension": ".py",
   "mimetype": "text/x-python",
   "name": "python",
   "nbconvert_exporter": "python",
   "pygments_lexer": "ipython3",
   "version": "3.9.7"
  }
 },
 "nbformat": 4,
 "nbformat_minor": 5
}
